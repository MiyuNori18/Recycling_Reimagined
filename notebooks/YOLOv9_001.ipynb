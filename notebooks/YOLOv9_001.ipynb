{
  "nbformat": 4,
  "nbformat_minor": 0,
  "metadata": {
    "colab": {
      "provenance": [],
      "gpuType": "T4"
    },
    "kernelspec": {
      "name": "python3",
      "display_name": "Python 3"
    },
    "language_info": {
      "name": "python"
    },
    "accelerator": "GPU"
  },
  "cells": [
    {
      "cell_type": "code",
      "source": [
        "from google.colab import drive\n",
        "drive.mount('/content/drive')"
      ],
      "metadata": {
        "colab": {
          "base_uri": "https://localhost:8080/"
        },
        "id": "MzXW4PS3Jv9Q",
        "outputId": "81d4bc7c-bf5a-4e54-d966-2986de0143a1"
      },
      "execution_count": null,
      "outputs": [
        {
          "output_type": "stream",
          "name": "stdout",
          "text": [
            "Mounted at /content/drive\n"
          ]
        }
      ]
    },
    {
      "cell_type": "markdown",
      "source": [
        "#  First Test\n",
        "\n",
        "Yolov9 (YOLOv9-T)"
      ],
      "metadata": {
        "id": "h9fMNfyjFaNB"
      }
    },
    {
      "cell_type": "code",
      "execution_count": null,
      "metadata": {
        "colab": {
          "base_uri": "https://localhost:8080/"
        },
        "collapsed": true,
        "id": "wtHh5psoDy5P",
        "outputId": "a7391bc7-21fe-4b2f-99ea-046aaf8006ff"
      },
      "outputs": [
        {
          "output_type": "stream",
          "name": "stdout",
          "text": [
            "Wed Sep  4 10:51:04 2024       \n",
            "+---------------------------------------------------------------------------------------+\n",
            "| NVIDIA-SMI 535.104.05             Driver Version: 535.104.05   CUDA Version: 12.2     |\n",
            "|-----------------------------------------+----------------------+----------------------+\n",
            "| GPU  Name                 Persistence-M | Bus-Id        Disp.A | Volatile Uncorr. ECC |\n",
            "| Fan  Temp   Perf          Pwr:Usage/Cap |         Memory-Usage | GPU-Util  Compute M. |\n",
            "|                                         |                      |               MIG M. |\n",
            "|=========================================+======================+======================|\n",
            "|   0  Tesla T4                       Off | 00000000:00:04.0 Off |                    0 |\n",
            "| N/A   55C    P8              13W /  70W |      0MiB / 15360MiB |      0%      Default |\n",
            "|                                         |                      |                  N/A |\n",
            "+-----------------------------------------+----------------------+----------------------+\n",
            "                                                                                         \n",
            "+---------------------------------------------------------------------------------------+\n",
            "| Processes:                                                                            |\n",
            "|  GPU   GI   CI        PID   Type   Process name                            GPU Memory |\n",
            "|        ID   ID                                                             Usage      |\n",
            "|=======================================================================================|\n",
            "|  No running processes found                                                           |\n",
            "+---------------------------------------------------------------------------------------+\n"
          ]
        }
      ],
      "source": [
        "# Use nvidia-smi command to access to GPU.\n",
        "\n",
        "!nvidia-smi"
      ]
    },
    {
      "cell_type": "markdown",
      "source": [
        "\n",
        "*   Assure Runtime type is set to T4 GPU\n",
        "\n",
        "\n",
        "\n"
      ],
      "metadata": {
        "id": "6wtfshr6Ee1L"
      }
    },
    {
      "cell_type": "code",
      "source": [
        "# To make it easier for us to manage datasets, images and models we create a `HOME` constant.\n",
        "\n",
        "import os\n",
        "HOME = os.getcwd()\n",
        "print(HOME)"
      ],
      "metadata": {
        "colab": {
          "base_uri": "https://localhost:8080/"
        },
        "id": "-bzJJzSGFFJG",
        "outputId": "8fb42fdf-7acd-4e14-bfa7-c76dc51f5917"
      },
      "execution_count": null,
      "outputs": [
        {
          "output_type": "stream",
          "name": "stdout",
          "text": [
            "/content\n"
          ]
        }
      ]
    },
    {
      "cell_type": "markdown",
      "source": [],
      "metadata": {
        "id": "1PeQ57I3FZRm"
      }
    },
    {
      "cell_type": "code",
      "source": [
        "# API for downloading specific dataset from TACO\n",
        "!pip install roboflow\n",
        "\n",
        "from roboflow import Roboflow\n",
        "\n",
        "\n",
        "\n",
        "rf = Roboflow(api_key=\"NtHDWWC0JhDMlxNNhpDb\")\n",
        "project = rf.workspace(\"tom-rowland-03ams\").project(\"taco-wikc7\")\n",
        "version = project.version(3)\n",
        "dataset = version.download(\"yolov8-obb\")\n"
      ],
      "metadata": {
        "colab": {
          "base_uri": "https://localhost:8080/"
        },
        "collapsed": true,
        "id": "1Tr8bXj7HiKG",
        "outputId": "e70d66f8-b7ab-4404-8216-d0b603dea4f1"
      },
      "execution_count": null,
      "outputs": [
        {
          "output_type": "stream",
          "name": "stdout",
          "text": [
            "Collecting roboflow\n",
            "  Downloading roboflow-1.1.44-py3-none-any.whl.metadata (9.7 kB)\n",
            "Requirement already satisfied: certifi in /usr/local/lib/python3.10/dist-packages (from roboflow) (2024.7.4)\n",
            "Collecting idna==3.7 (from roboflow)\n",
            "  Downloading idna-3.7-py3-none-any.whl.metadata (9.9 kB)\n",
            "Requirement already satisfied: cycler in /usr/local/lib/python3.10/dist-packages (from roboflow) (0.12.1)\n",
            "Requirement already satisfied: kiwisolver>=1.3.1 in /usr/local/lib/python3.10/dist-packages (from roboflow) (1.4.5)\n",
            "Requirement already satisfied: matplotlib in /usr/local/lib/python3.10/dist-packages (from roboflow) (3.7.1)\n",
            "Requirement already satisfied: numpy>=1.18.5 in /usr/local/lib/python3.10/dist-packages (from roboflow) (1.26.4)\n",
            "Requirement already satisfied: opencv-python-headless==4.10.0.84 in /usr/local/lib/python3.10/dist-packages (from roboflow) (4.10.0.84)\n",
            "Requirement already satisfied: Pillow>=7.1.2 in /usr/local/lib/python3.10/dist-packages (from roboflow) (9.4.0)\n",
            "Requirement already satisfied: python-dateutil in /usr/local/lib/python3.10/dist-packages (from roboflow) (2.8.2)\n",
            "Collecting python-dotenv (from roboflow)\n",
            "  Downloading python_dotenv-1.0.1-py3-none-any.whl.metadata (23 kB)\n",
            "Requirement already satisfied: requests in /usr/local/lib/python3.10/dist-packages (from roboflow) (2.32.3)\n",
            "Requirement already satisfied: six in /usr/local/lib/python3.10/dist-packages (from roboflow) (1.16.0)\n",
            "Requirement already satisfied: urllib3>=1.26.6 in /usr/local/lib/python3.10/dist-packages (from roboflow) (2.0.7)\n",
            "Requirement already satisfied: tqdm>=4.41.0 in /usr/local/lib/python3.10/dist-packages (from roboflow) (4.66.5)\n",
            "Requirement already satisfied: PyYAML>=5.3.1 in /usr/local/lib/python3.10/dist-packages (from roboflow) (6.0.2)\n",
            "Collecting requests-toolbelt (from roboflow)\n",
            "  Downloading requests_toolbelt-1.0.0-py2.py3-none-any.whl.metadata (14 kB)\n",
            "Collecting filetype (from roboflow)\n",
            "  Downloading filetype-1.2.0-py2.py3-none-any.whl.metadata (6.5 kB)\n",
            "Requirement already satisfied: contourpy>=1.0.1 in /usr/local/lib/python3.10/dist-packages (from matplotlib->roboflow) (1.3.0)\n",
            "Requirement already satisfied: fonttools>=4.22.0 in /usr/local/lib/python3.10/dist-packages (from matplotlib->roboflow) (4.53.1)\n",
            "Requirement already satisfied: packaging>=20.0 in /usr/local/lib/python3.10/dist-packages (from matplotlib->roboflow) (24.1)\n",
            "Requirement already satisfied: pyparsing>=2.3.1 in /usr/local/lib/python3.10/dist-packages (from matplotlib->roboflow) (3.1.4)\n",
            "Requirement already satisfied: charset-normalizer<4,>=2 in /usr/local/lib/python3.10/dist-packages (from requests->roboflow) (3.3.2)\n",
            "Downloading roboflow-1.1.44-py3-none-any.whl (79 kB)\n",
            "\u001b[2K   \u001b[90m━━━━━━━━━━━━━━━━━━━━━━━━━━━━━━━━━━━━━━━━\u001b[0m \u001b[32m79.9/79.9 kB\u001b[0m \u001b[31m6.2 MB/s\u001b[0m eta \u001b[36m0:00:00\u001b[0m\n",
            "\u001b[?25hDownloading idna-3.7-py3-none-any.whl (66 kB)\n",
            "\u001b[2K   \u001b[90m━━━━━━━━━━━━━━━━━━━━━━━━━━━━━━━━━━━━━━━━\u001b[0m \u001b[32m66.8/66.8 kB\u001b[0m \u001b[31m4.4 MB/s\u001b[0m eta \u001b[36m0:00:00\u001b[0m\n",
            "\u001b[?25hDownloading filetype-1.2.0-py2.py3-none-any.whl (19 kB)\n",
            "Downloading python_dotenv-1.0.1-py3-none-any.whl (19 kB)\n",
            "Downloading requests_toolbelt-1.0.0-py2.py3-none-any.whl (54 kB)\n",
            "\u001b[2K   \u001b[90m━━━━━━━━━━━━━━━━━━━━━━━━━━━━━━━━━━━━━━━━\u001b[0m \u001b[32m54.5/54.5 kB\u001b[0m \u001b[31m3.1 MB/s\u001b[0m eta \u001b[36m0:00:00\u001b[0m\n",
            "\u001b[?25hInstalling collected packages: filetype, python-dotenv, idna, requests-toolbelt, roboflow\n",
            "  Attempting uninstall: idna\n",
            "    Found existing installation: idna 3.8\n",
            "    Uninstalling idna-3.8:\n",
            "      Successfully uninstalled idna-3.8\n",
            "Successfully installed filetype-1.2.0 idna-3.7 python-dotenv-1.0.1 requests-toolbelt-1.0.0 roboflow-1.1.44\n",
            "loading Roboflow workspace...\n",
            "loading Roboflow project...\n"
          ]
        },
        {
          "output_type": "stream",
          "name": "stderr",
          "text": [
            "Downloading Dataset Version Zip in TACO-3 to yolov8-obb:: 100%|██████████| 926960/926960 [00:20<00:00, 45347.78it/s]"
          ]
        },
        {
          "output_type": "stream",
          "name": "stdout",
          "text": [
            "\n"
          ]
        },
        {
          "output_type": "stream",
          "name": "stderr",
          "text": [
            "\n",
            "Extracting Dataset Version Zip to TACO-3 in yolov8-obb:: 100%|██████████| 7176/7176 [00:06<00:00, 1070.36it/s]\n"
          ]
        }
      ]
    },
    {
      "cell_type": "markdown",
      "source": [
        "* Manually update data.yaml file paths to e.g. \"/content/TACO-dataset-15/test/images\""
      ],
      "metadata": {
        "id": "0CgstOh5K442"
      }
    },
    {
      "cell_type": "code",
      "source": [
        "# Yolo\n",
        "!pip install ultralytics"
      ],
      "metadata": {
        "colab": {
          "base_uri": "https://localhost:8080/"
        },
        "id": "ukXscIbXHj7B",
        "outputId": "e8c172b3-8260-4bfe-aa26-d04aeb10f65b"
      },
      "execution_count": null,
      "outputs": [
        {
          "output_type": "stream",
          "name": "stdout",
          "text": [
            "Collecting ultralytics\n",
            "  Downloading ultralytics-8.2.87-py3-none-any.whl.metadata (41 kB)\n",
            "\u001b[?25l     \u001b[90m━━━━━━━━━━━━━━━━━━━━━━━━━━━━━━━━━━━━━━━━\u001b[0m \u001b[32m0.0/41.8 kB\u001b[0m \u001b[31m?\u001b[0m eta \u001b[36m-:--:--\u001b[0m\r\u001b[2K     \u001b[90m━━━━━━━━━━━━━━━━━━━━━━━━━━━━━━━━━━━━━━━━\u001b[0m \u001b[32m41.8/41.8 kB\u001b[0m \u001b[31m3.5 MB/s\u001b[0m eta \u001b[36m0:00:00\u001b[0m\n",
            "\u001b[?25hRequirement already satisfied: numpy<2.0.0,>=1.23.0 in /usr/local/lib/python3.10/dist-packages (from ultralytics) (1.26.4)\n",
            "Requirement already satisfied: matplotlib>=3.3.0 in /usr/local/lib/python3.10/dist-packages (from ultralytics) (3.7.1)\n",
            "Requirement already satisfied: opencv-python>=4.6.0 in /usr/local/lib/python3.10/dist-packages (from ultralytics) (4.10.0.84)\n",
            "Requirement already satisfied: pillow>=7.1.2 in /usr/local/lib/python3.10/dist-packages (from ultralytics) (9.4.0)\n",
            "Requirement already satisfied: pyyaml>=5.3.1 in /usr/local/lib/python3.10/dist-packages (from ultralytics) (6.0.2)\n",
            "Requirement already satisfied: requests>=2.23.0 in /usr/local/lib/python3.10/dist-packages (from ultralytics) (2.32.3)\n",
            "Requirement already satisfied: scipy>=1.4.1 in /usr/local/lib/python3.10/dist-packages (from ultralytics) (1.13.1)\n",
            "Requirement already satisfied: torch>=1.8.0 in /usr/local/lib/python3.10/dist-packages (from ultralytics) (2.4.0+cu121)\n",
            "Requirement already satisfied: torchvision>=0.9.0 in /usr/local/lib/python3.10/dist-packages (from ultralytics) (0.19.0+cu121)\n",
            "Requirement already satisfied: tqdm>=4.64.0 in /usr/local/lib/python3.10/dist-packages (from ultralytics) (4.66.5)\n",
            "Requirement already satisfied: psutil in /usr/local/lib/python3.10/dist-packages (from ultralytics) (5.9.5)\n",
            "Requirement already satisfied: py-cpuinfo in /usr/local/lib/python3.10/dist-packages (from ultralytics) (9.0.0)\n",
            "Requirement already satisfied: pandas>=1.1.4 in /usr/local/lib/python3.10/dist-packages (from ultralytics) (2.1.4)\n",
            "Requirement already satisfied: seaborn>=0.11.0 in /usr/local/lib/python3.10/dist-packages (from ultralytics) (0.13.1)\n",
            "Collecting ultralytics-thop>=2.0.0 (from ultralytics)\n",
            "  Downloading ultralytics_thop-2.0.6-py3-none-any.whl.metadata (9.1 kB)\n",
            "Requirement already satisfied: contourpy>=1.0.1 in /usr/local/lib/python3.10/dist-packages (from matplotlib>=3.3.0->ultralytics) (1.3.0)\n",
            "Requirement already satisfied: cycler>=0.10 in /usr/local/lib/python3.10/dist-packages (from matplotlib>=3.3.0->ultralytics) (0.12.1)\n",
            "Requirement already satisfied: fonttools>=4.22.0 in /usr/local/lib/python3.10/dist-packages (from matplotlib>=3.3.0->ultralytics) (4.53.1)\n",
            "Requirement already satisfied: kiwisolver>=1.0.1 in /usr/local/lib/python3.10/dist-packages (from matplotlib>=3.3.0->ultralytics) (1.4.5)\n",
            "Requirement already satisfied: packaging>=20.0 in /usr/local/lib/python3.10/dist-packages (from matplotlib>=3.3.0->ultralytics) (24.1)\n",
            "Requirement already satisfied: pyparsing>=2.3.1 in /usr/local/lib/python3.10/dist-packages (from matplotlib>=3.3.0->ultralytics) (3.1.4)\n",
            "Requirement already satisfied: python-dateutil>=2.7 in /usr/local/lib/python3.10/dist-packages (from matplotlib>=3.3.0->ultralytics) (2.8.2)\n",
            "Requirement already satisfied: pytz>=2020.1 in /usr/local/lib/python3.10/dist-packages (from pandas>=1.1.4->ultralytics) (2024.1)\n",
            "Requirement already satisfied: tzdata>=2022.1 in /usr/local/lib/python3.10/dist-packages (from pandas>=1.1.4->ultralytics) (2024.1)\n",
            "Requirement already satisfied: charset-normalizer<4,>=2 in /usr/local/lib/python3.10/dist-packages (from requests>=2.23.0->ultralytics) (3.3.2)\n",
            "Requirement already satisfied: idna<4,>=2.5 in /usr/local/lib/python3.10/dist-packages (from requests>=2.23.0->ultralytics) (3.7)\n",
            "Requirement already satisfied: urllib3<3,>=1.21.1 in /usr/local/lib/python3.10/dist-packages (from requests>=2.23.0->ultralytics) (2.0.7)\n",
            "Requirement already satisfied: certifi>=2017.4.17 in /usr/local/lib/python3.10/dist-packages (from requests>=2.23.0->ultralytics) (2024.7.4)\n",
            "Requirement already satisfied: filelock in /usr/local/lib/python3.10/dist-packages (from torch>=1.8.0->ultralytics) (3.15.4)\n",
            "Requirement already satisfied: typing-extensions>=4.8.0 in /usr/local/lib/python3.10/dist-packages (from torch>=1.8.0->ultralytics) (4.12.2)\n",
            "Requirement already satisfied: sympy in /usr/local/lib/python3.10/dist-packages (from torch>=1.8.0->ultralytics) (1.13.2)\n",
            "Requirement already satisfied: networkx in /usr/local/lib/python3.10/dist-packages (from torch>=1.8.0->ultralytics) (3.3)\n",
            "Requirement already satisfied: jinja2 in /usr/local/lib/python3.10/dist-packages (from torch>=1.8.0->ultralytics) (3.1.4)\n",
            "Requirement already satisfied: fsspec in /usr/local/lib/python3.10/dist-packages (from torch>=1.8.0->ultralytics) (2024.6.1)\n",
            "Requirement already satisfied: six>=1.5 in /usr/local/lib/python3.10/dist-packages (from python-dateutil>=2.7->matplotlib>=3.3.0->ultralytics) (1.16.0)\n",
            "Requirement already satisfied: MarkupSafe>=2.0 in /usr/local/lib/python3.10/dist-packages (from jinja2->torch>=1.8.0->ultralytics) (2.1.5)\n",
            "Requirement already satisfied: mpmath<1.4,>=1.1.0 in /usr/local/lib/python3.10/dist-packages (from sympy->torch>=1.8.0->ultralytics) (1.3.0)\n",
            "Downloading ultralytics-8.2.87-py3-none-any.whl (872 kB)\n",
            "\u001b[2K   \u001b[90m━━━━━━━━━━━━━━━━━━━━━━━━━━━━━━━━━━━━━━━━\u001b[0m \u001b[32m872.1/872.1 kB\u001b[0m \u001b[31m21.5 MB/s\u001b[0m eta \u001b[36m0:00:00\u001b[0m\n",
            "\u001b[?25hDownloading ultralytics_thop-2.0.6-py3-none-any.whl (26 kB)\n",
            "Installing collected packages: ultralytics-thop, ultralytics\n",
            "Successfully installed ultralytics-8.2.87 ultralytics-thop-2.0.6\n"
          ]
        }
      ]
    },
    {
      "cell_type": "code",
      "source": [
        "from ultralytics import YOLO"
      ],
      "metadata": {
        "id": "o1yRRrqgLbjw"
      },
      "execution_count": null,
      "outputs": []
    },
    {
      "cell_type": "code",
      "source": [
        "# Build a YOLOv9c model from pretrained weight\n",
        "model = YOLO(\"yolov9t.pt\")\n",
        "\n"
      ],
      "metadata": {
        "colab": {
          "base_uri": "https://localhost:8080/"
        },
        "id": "esq7xthNLYdw",
        "outputId": "294e6d10-0884-4706-da64-775c2f806265"
      },
      "execution_count": null,
      "outputs": [
        {
          "output_type": "stream",
          "name": "stdout",
          "text": [
            "Downloading https://github.com/ultralytics/assets/releases/download/v8.2.0/yolov9t.pt to 'yolov9t.pt'...\n"
          ]
        },
        {
          "output_type": "stream",
          "name": "stderr",
          "text": [
            "100%|██████████| 4.74M/4.74M [00:00<00:00, 63.1MB/s]\n"
          ]
        }
      ]
    },
    {
      "cell_type": "code",
      "source": [
        "# Display model information (optional)\n",
        "model.info()"
      ],
      "metadata": {
        "colab": {
          "base_uri": "https://localhost:8080/"
        },
        "id": "y1zQoF88LZwM",
        "outputId": "9a591ede-9206-4575-87f5-4ed24c14f473"
      },
      "execution_count": null,
      "outputs": [
        {
          "output_type": "stream",
          "name": "stdout",
          "text": [
            "YOLOv9t summary: 917 layers, 2,128,720 parameters, 0 gradients, 8.5 GFLOPs\n"
          ]
        },
        {
          "output_type": "execute_result",
          "data": {
            "text/plain": [
              "(917, 2128720, 0, 8.4827648)"
            ]
          },
          "metadata": {},
          "execution_count": 8
        }
      ]
    },
    {
      "cell_type": "code",
      "source": [
        "# Train the model on custom dataset\n",
        "results = model.train(data=\"/content/TACO-3/data.yaml\", epochs=200, imgsz=640, patience=30)"
      ],
      "metadata": {
        "colab": {
          "base_uri": "https://localhost:8080/"
        },
        "collapsed": true,
        "id": "n8y92M1KNeDa",
        "outputId": "0c03824e-54ba-4f2c-b8ca-fe5a9a39004d"
      },
      "execution_count": null,
      "outputs": [
        {
          "output_type": "stream",
          "name": "stdout",
          "text": [
            "Ultralytics YOLOv8.2.87 🚀 Python-3.10.12 torch-2.4.0+cu121 CUDA:0 (Tesla T4, 15102MiB)\n",
            "\u001b[34m\u001b[1mengine/trainer: \u001b[0mtask=detect, mode=train, model=yolov9t.pt, data=/content/TACO-3/data.yaml, epochs=200, time=None, patience=30, batch=16, imgsz=640, save=True, save_period=-1, cache=False, device=None, workers=8, project=None, name=train2, exist_ok=False, pretrained=True, optimizer=auto, verbose=True, seed=0, deterministic=True, single_cls=False, rect=False, cos_lr=False, close_mosaic=10, resume=False, amp=True, fraction=1.0, profile=False, freeze=None, multi_scale=False, overlap_mask=True, mask_ratio=4, dropout=0.0, val=True, split=val, save_json=False, save_hybrid=False, conf=None, iou=0.7, max_det=300, half=False, dnn=False, plots=True, source=None, vid_stride=1, stream_buffer=False, visualize=False, augment=False, agnostic_nms=False, classes=None, retina_masks=False, embed=None, show=False, save_frames=False, save_txt=False, save_conf=False, save_crop=False, show_labels=True, show_conf=True, show_boxes=True, line_width=None, format=torchscript, keras=False, optimize=False, int8=False, dynamic=False, simplify=False, opset=None, workspace=4, nms=False, lr0=0.01, lrf=0.01, momentum=0.937, weight_decay=0.0005, warmup_epochs=3.0, warmup_momentum=0.8, warmup_bias_lr=0.1, box=7.5, cls=0.5, dfl=1.5, pose=12.0, kobj=1.0, label_smoothing=0.0, nbs=64, hsv_h=0.015, hsv_s=0.7, hsv_v=0.4, degrees=0.0, translate=0.1, scale=0.5, shear=0.0, perspective=0.0, flipud=0.0, fliplr=0.5, bgr=0.0, mosaic=1.0, mixup=0.0, copy_paste=0.0, auto_augment=randaugment, erasing=0.4, crop_fraction=1.0, cfg=None, tracker=botsort.yaml, save_dir=runs/detect/train2\n",
            "Downloading https://ultralytics.com/assets/Arial.ttf to '/root/.config/Ultralytics/Arial.ttf'...\n"
          ]
        },
        {
          "output_type": "stream",
          "name": "stderr",
          "text": [
            "100%|██████████| 755k/755k [00:00<00:00, 28.2MB/s]\n"
          ]
        },
        {
          "output_type": "stream",
          "name": "stdout",
          "text": [
            "Overriding model.yaml nc=80 with nc=24\n",
            "\n",
            "                   from  n    params  module                                       arguments                     \n",
            "  0                  -1  1       464  ultralytics.nn.modules.conv.Conv             [3, 16, 3, 2]                 \n",
            "  1                  -1  1      4672  ultralytics.nn.modules.conv.Conv             [16, 32, 3, 2]                \n",
            "  2                  -1  1      7872  ultralytics.nn.modules.block.ELAN1           [32, 32, 32, 16]              \n",
            "  3                  -1  1     18560  ultralytics.nn.modules.block.AConv           [32, 64]                      \n",
            "  4                  -1  1     65216  ultralytics.nn.modules.block.RepNCSPELAN4    [64, 64, 64, 32, 3]           \n",
            "  5                  -1  1     55488  ultralytics.nn.modules.block.AConv           [64, 96]                      \n",
            "  6                  -1  1    145824  ultralytics.nn.modules.block.RepNCSPELAN4    [96, 96, 96, 48, 3]           \n",
            "  7                  -1  1    110848  ultralytics.nn.modules.block.AConv           [96, 128]                     \n",
            "  8                  -1  1    258432  ultralytics.nn.modules.block.RepNCSPELAN4    [128, 128, 128, 64, 3]        \n",
            "  9                  -1  1     41344  ultralytics.nn.modules.block.SPPELAN         [128, 128, 64]                \n",
            " 10                  -1  1         0  torch.nn.modules.upsampling.Upsample         [None, 2, 'nearest']          \n",
            " 11             [-1, 6]  1         0  ultralytics.nn.modules.conv.Concat           [1]                           \n",
            " 12                  -1  1    158112  ultralytics.nn.modules.block.RepNCSPELAN4    [224, 96, 96, 48, 3]          \n",
            " 13                  -1  1         0  torch.nn.modules.upsampling.Upsample         [None, 2, 'nearest']          \n",
            " 14             [-1, 4]  1         0  ultralytics.nn.modules.conv.Concat           [1]                           \n",
            " 15                  -1  1     71360  ultralytics.nn.modules.block.RepNCSPELAN4    [160, 64, 64, 32, 3]          \n",
            " 16                  -1  1     27744  ultralytics.nn.modules.block.AConv           [64, 48]                      \n",
            " 17            [-1, 12]  1         0  ultralytics.nn.modules.conv.Concat           [1]                           \n",
            " 18                  -1  1    150432  ultralytics.nn.modules.block.RepNCSPELAN4    [144, 96, 96, 48, 3]          \n",
            " 19                  -1  1     55424  ultralytics.nn.modules.block.AConv           [96, 64]                      \n",
            " 20             [-1, 9]  1         0  ultralytics.nn.modules.conv.Concat           [1]                           \n",
            " 21                  -1  1    266624  ultralytics.nn.modules.block.RepNCSPELAN4    [192, 128, 128, 64, 3]        \n",
            " 22        [15, 18, 21]  1    571672  ultralytics.nn.modules.head.Detect           [24, [64, 96, 128]]           \n",
            "YOLOv9t summary: 917 layers, 2,010,088 parameters, 2,010,072 gradients, 7.9 GFLOPs\n",
            "\n",
            "Transferred 1303/1339 items from pretrained weights\n",
            "\u001b[34m\u001b[1mTensorBoard: \u001b[0mStart with 'tensorboard --logdir runs/detect/train2', view at http://localhost:6006/\n",
            "Freezing layer 'model.22.dfl.conv.weight'\n",
            "\u001b[34m\u001b[1mAMP: \u001b[0mrunning Automatic Mixed Precision (AMP) checks with YOLOv8n...\n",
            "Downloading https://github.com/ultralytics/assets/releases/download/v8.2.0/yolov8n.pt to 'yolov8n.pt'...\n"
          ]
        },
        {
          "output_type": "stream",
          "name": "stderr",
          "text": [
            "100%|██████████| 6.25M/6.25M [00:00<00:00, 99.7MB/s]\n"
          ]
        },
        {
          "output_type": "stream",
          "name": "stdout",
          "text": [
            "\u001b[34m\u001b[1mAMP: \u001b[0mchecks passed ✅\n"
          ]
        },
        {
          "output_type": "stream",
          "name": "stderr",
          "text": [
            "\u001b[34m\u001b[1mtrain: \u001b[0mScanning /content/TACO-3/train/labels... 3133 images, 240 backgrounds, 50 corrupt: 100%|██████████| 3133/3133 [00:02<00:00, 1333.07it/s]"
          ]
        },
        {
          "output_type": "stream",
          "name": "stdout",
          "text": [
            "\u001b[34m\u001b[1mtrain: \u001b[0mWARNING ⚠️ /content/TACO-3/train/images/000003_jpg.rf.96da9c362dc6bfdf2228ea018ac0ffbb.jpg: ignoring corrupt image/label: non-normalized or out of bounds coordinates [     1.0399]\n",
            "\u001b[34m\u001b[1mtrain: \u001b[0mWARNING ⚠️ /content/TACO-3/train/images/000004_jpg.rf.01d976cdfde293d2298b6b241e58ff0e.jpg: ignoring corrupt image/label: non-normalized or out of bounds coordinates [     1.1511       1.164]\n",
            "\u001b[34m\u001b[1mtrain: \u001b[0mWARNING ⚠️ /content/TACO-3/train/images/000004_jpg.rf.1828263055a7a64e93917edcd842a4cf.jpg: ignoring corrupt image/label: non-normalized or out of bounds coordinates [     1.0992      1.1048]\n",
            "\u001b[34m\u001b[1mtrain: \u001b[0mWARNING ⚠️ /content/TACO-3/train/images/000005_jpg.rf.1950625317d9e714535c8374dae67b3c.jpg: ignoring corrupt image/label: non-normalized or out of bounds coordinates [     1.1156]\n",
            "\u001b[34m\u001b[1mtrain: \u001b[0mWARNING ⚠️ /content/TACO-3/train/images/000005_jpg.rf.7bb81750cf97c88ba9c76b21a50ddd3f.jpg: ignoring corrupt image/label: non-normalized or out of bounds coordinates [     1.0403]\n",
            "\u001b[34m\u001b[1mtrain: \u001b[0mWARNING ⚠️ /content/TACO-3/train/images/000006_jpg.rf.2f41df3aba0873d7fc67e9773aeb8df4.jpg: ignoring corrupt image/label: non-normalized or out of bounds coordinates [     1.0045]\n",
            "\u001b[34m\u001b[1mtrain: \u001b[0mWARNING ⚠️ /content/TACO-3/train/images/000006_jpg.rf.84fb4da0a55295ef9d80016a33de8127.jpg: ignoring corrupt image/label: non-normalized or out of bounds coordinates [     1.0347]\n",
            "\u001b[34m\u001b[1mtrain: \u001b[0mWARNING ⚠️ /content/TACO-3/train/images/000006_jpg.rf.e8b653a133b8dc5cd4002db2655acde2.jpg: ignoring corrupt image/label: non-normalized or out of bounds coordinates [     1.1236]\n",
            "\u001b[34m\u001b[1mtrain: \u001b[0mWARNING ⚠️ /content/TACO-3/train/images/000008_jpg.rf.5f30477268f000393070df9963ae6c68.jpg: ignoring corrupt image/label: non-normalized or out of bounds coordinates [     1.2463      1.2409]\n",
            "\u001b[34m\u001b[1mtrain: \u001b[0mWARNING ⚠️ /content/TACO-3/train/images/000008_jpg.rf.75b53cdd88493e537d2c3e472b9c1bb4.jpg: ignoring corrupt image/label: non-normalized or out of bounds coordinates [     1.1997      1.1661]\n",
            "\u001b[34m\u001b[1mtrain: \u001b[0mWARNING ⚠️ /content/TACO-3/train/images/000010_jpg.rf.f83e7729b4c2e9a077fbe3ec1e22d661.jpg: ignoring corrupt image/label: non-normalized or out of bounds coordinates [     1.0656]\n",
            "\u001b[34m\u001b[1mtrain: \u001b[0mWARNING ⚠️ /content/TACO-3/train/images/000012_jpg.rf.2a31d120d0ad35f3c418e3b8293977e5.jpg: ignoring corrupt image/label: non-normalized or out of bounds coordinates [     1.0441]\n",
            "\u001b[34m\u001b[1mtrain: \u001b[0mWARNING ⚠️ /content/TACO-3/train/images/000012_jpg.rf.5866d7ce2400e387362950e44207d024.jpg: ignoring corrupt image/label: non-normalized or out of bounds coordinates [     1.1318]\n",
            "\u001b[34m\u001b[1mtrain: \u001b[0mWARNING ⚠️ /content/TACO-3/train/images/000013_jpg.rf.255952effbde03998823b8b98091ef36.jpg: ignoring corrupt image/label: non-normalized or out of bounds coordinates [     1.0568]\n",
            "\u001b[34m\u001b[1mtrain: \u001b[0mWARNING ⚠️ /content/TACO-3/train/images/000013_jpg.rf.3ca5d09fa859db2dd59850cf6a5b07d7.jpg: ignoring corrupt image/label: non-normalized or out of bounds coordinates [     1.0346      1.0792]\n",
            "\u001b[34m\u001b[1mtrain: \u001b[0mWARNING ⚠️ /content/TACO-3/train/images/000013_jpg.rf.8a4daa2b1a8d8d160e47cc7674dc1ff2.jpg: ignoring corrupt image/label: non-normalized or out of bounds coordinates [     1.0117]\n",
            "\u001b[34m\u001b[1mtrain: \u001b[0mWARNING ⚠️ /content/TACO-3/train/images/000013_jpg.rf.ec2920faea5e7e04a300b8785a5af578.jpg: ignoring corrupt image/label: non-normalized or out of bounds coordinates [     1.0947       1.116]\n",
            "\u001b[34m\u001b[1mtrain: \u001b[0mWARNING ⚠️ /content/TACO-3/train/images/000019_jpg.rf.828076ec827a7cc7ea36deb45b0eb59b.jpg: ignoring corrupt image/label: non-normalized or out of bounds coordinates [      1.118]\n",
            "\u001b[34m\u001b[1mtrain: \u001b[0mWARNING ⚠️ /content/TACO-3/train/images/000019_jpg.rf.ad8526ea224c71b29f6a2ddba74fc2b3.jpg: ignoring corrupt image/label: non-normalized or out of bounds coordinates [     1.0328]\n",
            "\u001b[34m\u001b[1mtrain: \u001b[0mWARNING ⚠️ /content/TACO-3/train/images/000019_jpg.rf.d568f87fe247987af488a4004dd6553d.jpg: ignoring corrupt image/label: non-normalized or out of bounds coordinates [     1.1725]\n",
            "\u001b[34m\u001b[1mtrain: \u001b[0mWARNING ⚠️ /content/TACO-3/train/images/000020_jpg.rf.0fe32e691f93ded9d8df5c724dc00d99.jpg: ignoring corrupt image/label: non-normalized or out of bounds coordinates [     1.0738]\n",
            "\u001b[34m\u001b[1mtrain: \u001b[0mWARNING ⚠️ /content/TACO-3/train/images/000020_jpg.rf.f04ff3632467b8666f067f9f09185d34.jpg: ignoring corrupt image/label: non-normalized or out of bounds coordinates [     1.0176]\n",
            "\u001b[34m\u001b[1mtrain: \u001b[0mWARNING ⚠️ /content/TACO-3/train/images/000034_jpg.rf.0b23b7b242d088af731f1be64636d132.jpg: ignoring corrupt image/label: non-normalized or out of bounds coordinates [     1.1415      1.0349]\n",
            "\u001b[34m\u001b[1mtrain: \u001b[0mWARNING ⚠️ /content/TACO-3/train/images/000034_jpg.rf.6e4dcc207b8b21bbc90aba1e8a133462.jpg: ignoring corrupt image/label: non-normalized or out of bounds coordinates [     1.3046      1.2606]\n",
            "\u001b[34m\u001b[1mtrain: \u001b[0mWARNING ⚠️ /content/TACO-3/train/images/000036_jpg.rf.01e8a63b8dd48b97a312d33cf437b644.jpg: ignoring corrupt image/label: non-normalized or out of bounds coordinates [     1.3213      1.3013]\n",
            "\u001b[34m\u001b[1mtrain: \u001b[0mWARNING ⚠️ /content/TACO-3/train/images/000036_jpg.rf.6604abae17555238c3357dfc4d0ba0e4.jpg: ignoring corrupt image/label: non-normalized or out of bounds coordinates [     1.2185       1.147]\n",
            "\u001b[34m\u001b[1mtrain: \u001b[0mWARNING ⚠️ /content/TACO-3/train/images/000047_jpg.rf.581676f684d0691a20aa96deebb87a0f.jpg: ignoring corrupt image/label: non-normalized or out of bounds coordinates [     1.0143]\n",
            "\u001b[34m\u001b[1mtrain: \u001b[0mWARNING ⚠️ /content/TACO-3/train/images/000048_jpg.rf.25868b85c5a305020744aefc01c9ca83.jpg: ignoring corrupt image/label: non-normalized or out of bounds coordinates [     1.0166]\n",
            "\u001b[34m\u001b[1mtrain: \u001b[0mWARNING ⚠️ /content/TACO-3/train/images/000048_jpg.rf.310da1361785dcc96cff75e4165b4446.jpg: ignoring corrupt image/label: non-normalized or out of bounds coordinates [     1.1965]\n",
            "\u001b[34m\u001b[1mtrain: \u001b[0mWARNING ⚠️ /content/TACO-3/train/images/000048_jpg.rf.dd30b44bacc7e248fa1ad21be0d6cc89.jpg: ignoring corrupt image/label: non-normalized or out of bounds coordinates [     1.0121]\n",
            "\u001b[34m\u001b[1mtrain: \u001b[0mWARNING ⚠️ /content/TACO-3/train/images/000056_jpg.rf.c991e42f4bc651e0102539fe13deaeb8.jpg: ignoring corrupt image/label: non-normalized or out of bounds coordinates [     1.0447]\n",
            "\u001b[34m\u001b[1mtrain: \u001b[0mWARNING ⚠️ /content/TACO-3/train/images/000065_jpg.rf.4300c98eec303e028e9e97ee174a64ae.jpg: ignoring corrupt image/label: non-normalized or out of bounds coordinates [     1.0388]\n",
            "\u001b[34m\u001b[1mtrain: \u001b[0mWARNING ⚠️ /content/TACO-3/train/images/000069_jpg.rf.5d9fb9db337941e7bd75287ab9cf40fb.jpg: ignoring corrupt image/label: non-normalized or out of bounds coordinates [     1.0709]\n",
            "\u001b[34m\u001b[1mtrain: \u001b[0mWARNING ⚠️ /content/TACO-3/train/images/000069_jpg.rf.c69b9998a48866b21f943694b8394ae1.jpg: ignoring corrupt image/label: non-normalized or out of bounds coordinates [     1.0146]\n",
            "\u001b[34m\u001b[1mtrain: \u001b[0mWARNING ⚠️ /content/TACO-3/train/images/000080_jpg.rf.472c147af5881a55002a7cd3ab80ef3c.jpg: ignoring corrupt image/label: non-normalized or out of bounds coordinates [     1.2023      1.0459]\n",
            "\u001b[34m\u001b[1mtrain: \u001b[0mWARNING ⚠️ /content/TACO-3/train/images/000080_jpg.rf.85ba35f22f825be0a4b48d5f6f805415.jpg: ignoring corrupt image/label: non-normalized or out of bounds coordinates [     1.1377]\n",
            "\u001b[34m\u001b[1mtrain: \u001b[0mWARNING ⚠️ /content/TACO-3/train/images/000080_jpg.rf.e29b367b650997df49b71277304102eb.jpg: ignoring corrupt image/label: non-normalized or out of bounds coordinates [     1.0152]\n",
            "\u001b[34m\u001b[1mtrain: \u001b[0mWARNING ⚠️ /content/TACO-3/train/images/000091_jpg.rf.56fb457add7d56baa811939b2ed82d92.jpg: ignoring corrupt image/label: non-normalized or out of bounds coordinates [     1.3279      1.3217]\n",
            "\u001b[34m\u001b[1mtrain: \u001b[0mWARNING ⚠️ /content/TACO-3/train/images/000091_jpg.rf.633cdca73e35ce6ed2e181c321618e11.jpg: ignoring corrupt image/label: non-normalized or out of bounds coordinates [     1.1257      1.0117]\n",
            "\u001b[34m\u001b[1mtrain: \u001b[0mWARNING ⚠️ /content/TACO-3/train/images/000093_jpg.rf.0750f9a9f27df4c1421e1d9460a35030.jpg: ignoring corrupt image/label: non-normalized or out of bounds coordinates [     1.0304]\n",
            "\u001b[34m\u001b[1mtrain: \u001b[0mWARNING ⚠️ /content/TACO-3/train/images/000093_jpg.rf.99798c59748dedbe64ecbec51ac63669.jpg: ignoring corrupt image/label: non-normalized or out of bounds coordinates [     1.0151      1.0286]\n",
            "\u001b[34m\u001b[1mtrain: \u001b[0mWARNING ⚠️ /content/TACO-3/train/images/000099_jpg.rf.1c39b79192ff6a90784779d104b2c475.jpg: ignoring corrupt image/label: non-normalized or out of bounds coordinates [     1.0585]\n",
            "\u001b[34m\u001b[1mtrain: \u001b[0mWARNING ⚠️ /content/TACO-3/train/images/000099_jpg.rf.82b62a0c3642e08cede9dd266da0b831.jpg: ignoring corrupt image/label: non-normalized or out of bounds coordinates [     1.0202      1.1227]\n",
            "\u001b[34m\u001b[1mtrain: \u001b[0mWARNING ⚠️ /content/TACO-3/train/images/000099_jpg.rf.f14a2801bfb671aed2e751019973c804.jpg: ignoring corrupt image/label: non-normalized or out of bounds coordinates [     1.0833]\n",
            "\u001b[34m\u001b[1mtrain: \u001b[0mWARNING ⚠️ /content/TACO-3/train/images/000128_JPG.rf.7b076a58ab44a2dd0b003624d3789b92.jpg: ignoring corrupt image/label: non-normalized or out of bounds coordinates [     1.0059]\n",
            "\u001b[34m\u001b[1mtrain: \u001b[0mWARNING ⚠️ /content/TACO-3/train/images/000129_JPG.rf.f44d7367461dc638efd6d4f608aa25c3.jpg: ignoring corrupt image/label: non-normalized or out of bounds coordinates [     1.0128]\n",
            "\u001b[34m\u001b[1mtrain: \u001b[0mWARNING ⚠️ /content/TACO-3/train/images/IMG_4877_JPG.rf.217073aa9f0b90554b6f02122054e17e.jpg: ignoring corrupt image/label: non-normalized or out of bounds coordinates [     1.0201]\n",
            "\u001b[34m\u001b[1mtrain: \u001b[0mWARNING ⚠️ /content/TACO-3/train/images/IMG_4877_JPG.rf.68333165a7e8bf8056cf9c2ce4aaeb13.jpg: ignoring corrupt image/label: non-normalized or out of bounds coordinates [     1.0835      1.0202]\n",
            "\u001b[34m\u001b[1mtrain: \u001b[0mWARNING ⚠️ /content/TACO-3/train/images/IMG_4915_JPG.rf.acb5f6ffb57b5810d4af8fe15adb17e8.jpg: ignoring corrupt image/label: non-normalized or out of bounds coordinates [     1.0662]\n",
            "\u001b[34m\u001b[1mtrain: \u001b[0mWARNING ⚠️ /content/TACO-3/train/images/IMG_4934_JPG.rf.ca79cfb6d0383eace060a90ba5f80ca6.jpg: ignoring corrupt image/label: non-normalized or out of bounds coordinates [     1.0204      1.0247]\n"
          ]
        },
        {
          "output_type": "stream",
          "name": "stderr",
          "text": [
            "\n"
          ]
        },
        {
          "output_type": "stream",
          "name": "stdout",
          "text": [
            "\u001b[34m\u001b[1mtrain: \u001b[0mNew cache created: /content/TACO-3/train/labels.cache\n",
            "\u001b[34m\u001b[1malbumentations: \u001b[0mBlur(p=0.01, blur_limit=(3, 7)), MedianBlur(p=0.01, blur_limit=(3, 7)), ToGray(p=0.01), CLAHE(p=0.01, clip_limit=(1, 4.0), tile_grid_size=(8, 8))\n"
          ]
        },
        {
          "output_type": "stream",
          "name": "stderr",
          "text": [
            "os.fork() was called. os.fork() is incompatible with multithreaded code, and JAX is multithreaded, so this will likely lead to a deadlock.\n",
            "\u001b[34m\u001b[1mval: \u001b[0mScanning /content/TACO-3/valid/labels... 249 images, 17 backgrounds, 1 corrupt: 100%|██████████| 249/249 [00:00<00:00, 729.67it/s]"
          ]
        },
        {
          "output_type": "stream",
          "name": "stdout",
          "text": [
            "\u001b[34m\u001b[1mval: \u001b[0mWARNING ⚠️ /content/TACO-3/valid/images/000012_jpg.rf.5983411297fc1094de310e205872eff6.jpg: ignoring corrupt image/label: non-normalized or out of bounds coordinates [     1.1121      1.1976]\n",
            "\u001b[34m\u001b[1mval: \u001b[0mNew cache created: /content/TACO-3/valid/labels.cache\n"
          ]
        },
        {
          "output_type": "stream",
          "name": "stderr",
          "text": [
            "\n"
          ]
        },
        {
          "output_type": "stream",
          "name": "stdout",
          "text": [
            "Plotting labels to runs/detect/train2/labels.jpg... \n",
            "\u001b[34m\u001b[1moptimizer:\u001b[0m 'optimizer=auto' found, ignoring 'lr0=0.01' and 'momentum=0.937' and determining best 'optimizer', 'lr0' and 'momentum' automatically... \n",
            "\u001b[34m\u001b[1moptimizer:\u001b[0m AdamW(lr=0.000357, momentum=0.9) with parameter groups 221 weight(decay=0.0), 228 weight(decay=0.0005), 227 bias(decay=0.0)\n",
            "\u001b[34m\u001b[1mTensorBoard: \u001b[0mmodel graph visualization added ✅\n",
            "Image sizes 640 train, 640 val\n",
            "Using 2 dataloader workers\n",
            "Logging results to \u001b[1mruns/detect/train2\u001b[0m\n",
            "Starting training for 200 epochs...\n",
            "\n",
            "      Epoch    GPU_mem   box_loss   cls_loss   dfl_loss  Instances       Size\n"
          ]
        },
        {
          "output_type": "stream",
          "name": "stderr",
          "text": [
            "      1/200      3.44G       1.66      4.687        1.5         37        640: 100%|██████████| 193/193 [02:14<00:00,  1.44it/s]\n",
            "                 Class     Images  Instances      Box(P          R      mAP50  mAP50-95): 100%|██████████| 8/8 [00:05<00:00,  1.50it/s]"
          ]
        },
        {
          "output_type": "stream",
          "name": "stdout",
          "text": [
            "                   all        248        765      0.244      0.121     0.0342     0.0202\n"
          ]
        },
        {
          "output_type": "stream",
          "name": "stderr",
          "text": [
            "\n"
          ]
        },
        {
          "output_type": "stream",
          "name": "stdout",
          "text": [
            "\n",
            "      Epoch    GPU_mem   box_loss   cls_loss   dfl_loss  Instances       Size\n"
          ]
        },
        {
          "output_type": "stream",
          "name": "stderr",
          "text": [
            "      2/200      3.37G      1.601      3.889      1.402         45        640: 100%|██████████| 193/193 [02:10<00:00,  1.47it/s]\n",
            "                 Class     Images  Instances      Box(P          R      mAP50  mAP50-95): 100%|██████████| 8/8 [00:03<00:00,  2.26it/s]\n"
          ]
        },
        {
          "output_type": "stream",
          "name": "stdout",
          "text": [
            "                   all        248        765      0.278      0.128     0.0774     0.0506\n",
            "\n",
            "      Epoch    GPU_mem   box_loss   cls_loss   dfl_loss  Instances       Size\n"
          ]
        },
        {
          "output_type": "stream",
          "name": "stderr",
          "text": [
            "      3/200      3.25G      1.565      3.612      1.401         53        640: 100%|██████████| 193/193 [02:02<00:00,  1.57it/s]\n",
            "                 Class     Images  Instances      Box(P          R      mAP50  mAP50-95): 100%|██████████| 8/8 [00:03<00:00,  2.49it/s]"
          ]
        },
        {
          "output_type": "stream",
          "name": "stdout",
          "text": [
            "                   all        248        765      0.192      0.148        0.1     0.0661\n"
          ]
        },
        {
          "output_type": "stream",
          "name": "stderr",
          "text": [
            "\n"
          ]
        },
        {
          "output_type": "stream",
          "name": "stdout",
          "text": [
            "\n",
            "      Epoch    GPU_mem   box_loss   cls_loss   dfl_loss  Instances       Size\n"
          ]
        },
        {
          "output_type": "stream",
          "name": "stderr",
          "text": [
            "      4/200      3.37G      1.535      3.361      1.399         48        640: 100%|██████████| 193/193 [01:54<00:00,  1.69it/s]\n",
            "                 Class     Images  Instances      Box(P          R      mAP50  mAP50-95): 100%|██████████| 8/8 [00:03<00:00,  2.03it/s]\n"
          ]
        },
        {
          "output_type": "stream",
          "name": "stdout",
          "text": [
            "                   all        248        765      0.207      0.173      0.101     0.0609\n",
            "\n",
            "      Epoch    GPU_mem   box_loss   cls_loss   dfl_loss  Instances       Size\n"
          ]
        },
        {
          "output_type": "stream",
          "name": "stderr",
          "text": [
            "      5/200      3.15G       1.53      3.185      1.402         34        640: 100%|██████████| 193/193 [01:56<00:00,  1.66it/s]\n",
            "                 Class     Images  Instances      Box(P          R      mAP50  mAP50-95): 100%|██████████| 8/8 [00:03<00:00,  2.38it/s]"
          ]
        },
        {
          "output_type": "stream",
          "name": "stdout",
          "text": [
            "                   all        248        765      0.228      0.161      0.107     0.0678\n"
          ]
        },
        {
          "output_type": "stream",
          "name": "stderr",
          "text": [
            "\n"
          ]
        },
        {
          "output_type": "stream",
          "name": "stdout",
          "text": [
            "\n",
            "      Epoch    GPU_mem   box_loss   cls_loss   dfl_loss  Instances       Size\n"
          ]
        },
        {
          "output_type": "stream",
          "name": "stderr",
          "text": [
            "      6/200      3.12G      1.514       3.03      1.376         34        640: 100%|██████████| 193/193 [02:07<00:00,  1.52it/s]\n",
            "                 Class     Images  Instances      Box(P          R      mAP50  mAP50-95): 100%|██████████| 8/8 [00:03<00:00,  2.26it/s]\n"
          ]
        },
        {
          "output_type": "stream",
          "name": "stdout",
          "text": [
            "                   all        248        765      0.261      0.181      0.116     0.0731\n",
            "\n",
            "      Epoch    GPU_mem   box_loss   cls_loss   dfl_loss  Instances       Size\n"
          ]
        },
        {
          "output_type": "stream",
          "name": "stderr",
          "text": [
            "      7/200      3.12G      1.504      2.909      1.377         85        640: 100%|██████████| 193/193 [02:00<00:00,  1.61it/s]\n",
            "                 Class     Images  Instances      Box(P          R      mAP50  mAP50-95): 100%|██████████| 8/8 [00:05<00:00,  1.45it/s]\n"
          ]
        },
        {
          "output_type": "stream",
          "name": "stdout",
          "text": [
            "                   all        248        765      0.161      0.183      0.103     0.0614\n",
            "\n",
            "      Epoch    GPU_mem   box_loss   cls_loss   dfl_loss  Instances       Size\n"
          ]
        },
        {
          "output_type": "stream",
          "name": "stderr",
          "text": [
            "      8/200      3.37G       1.47      2.784      1.361         33        640: 100%|██████████| 193/193 [02:04<00:00,  1.55it/s]\n",
            "                 Class     Images  Instances      Box(P          R      mAP50  mAP50-95): 100%|██████████| 8/8 [00:03<00:00,  2.33it/s]"
          ]
        },
        {
          "output_type": "stream",
          "name": "stdout",
          "text": [
            "                   all        248        765      0.247      0.179      0.127     0.0739\n"
          ]
        },
        {
          "output_type": "stream",
          "name": "stderr",
          "text": [
            "\n"
          ]
        },
        {
          "output_type": "stream",
          "name": "stdout",
          "text": [
            "\n",
            "      Epoch    GPU_mem   box_loss   cls_loss   dfl_loss  Instances       Size\n"
          ]
        },
        {
          "output_type": "stream",
          "name": "stderr",
          "text": [
            "      9/200      3.24G      1.479      2.703      1.358         11        640: 100%|██████████| 193/193 [02:02<00:00,  1.58it/s]\n",
            "                 Class     Images  Instances      Box(P          R      mAP50  mAP50-95): 100%|██████████| 8/8 [00:03<00:00,  2.57it/s]"
          ]
        },
        {
          "output_type": "stream",
          "name": "stdout",
          "text": [
            "                   all        248        765      0.169      0.204      0.118     0.0672\n"
          ]
        },
        {
          "output_type": "stream",
          "name": "stderr",
          "text": [
            "\n"
          ]
        },
        {
          "output_type": "stream",
          "name": "stdout",
          "text": [
            "\n",
            "      Epoch    GPU_mem   box_loss   cls_loss   dfl_loss  Instances       Size\n"
          ]
        },
        {
          "output_type": "stream",
          "name": "stderr",
          "text": [
            "     10/200      3.14G      1.465      2.615      1.349         33        640: 100%|██████████| 193/193 [02:04<00:00,  1.55it/s]\n",
            "                 Class     Images  Instances      Box(P          R      mAP50  mAP50-95): 100%|██████████| 8/8 [00:05<00:00,  1.56it/s]"
          ]
        },
        {
          "output_type": "stream",
          "name": "stdout",
          "text": [
            "                   all        248        765      0.217      0.203      0.133     0.0793\n"
          ]
        },
        {
          "output_type": "stream",
          "name": "stderr",
          "text": [
            "\n"
          ]
        },
        {
          "output_type": "stream",
          "name": "stdout",
          "text": [
            "\n",
            "      Epoch    GPU_mem   box_loss   cls_loss   dfl_loss  Instances       Size\n"
          ]
        },
        {
          "output_type": "stream",
          "name": "stderr",
          "text": [
            "     11/200      3.26G      1.432      2.487      1.325         27        640: 100%|██████████| 193/193 [02:02<00:00,  1.57it/s]\n",
            "                 Class     Images  Instances      Box(P          R      mAP50  mAP50-95): 100%|██████████| 8/8 [00:05<00:00,  1.54it/s]\n"
          ]
        },
        {
          "output_type": "stream",
          "name": "stdout",
          "text": [
            "                   all        248        765      0.218      0.208      0.138     0.0842\n",
            "\n",
            "      Epoch    GPU_mem   box_loss   cls_loss   dfl_loss  Instances       Size\n"
          ]
        },
        {
          "output_type": "stream",
          "name": "stderr",
          "text": [
            "     12/200      3.27G      1.433      2.459      1.336         50        640: 100%|██████████| 193/193 [01:57<00:00,  1.65it/s]\n",
            "                 Class     Images  Instances      Box(P          R      mAP50  mAP50-95): 100%|██████████| 8/8 [00:03<00:00,  2.62it/s]"
          ]
        },
        {
          "output_type": "stream",
          "name": "stdout",
          "text": [
            "                   all        248        765      0.185      0.213      0.149     0.0918\n"
          ]
        },
        {
          "output_type": "stream",
          "name": "stderr",
          "text": [
            "\n"
          ]
        },
        {
          "output_type": "stream",
          "name": "stdout",
          "text": [
            "\n",
            "      Epoch    GPU_mem   box_loss   cls_loss   dfl_loss  Instances       Size\n"
          ]
        },
        {
          "output_type": "stream",
          "name": "stderr",
          "text": [
            "     13/200      3.25G      1.423      2.354      1.331         87        640: 100%|██████████| 193/193 [02:04<00:00,  1.54it/s]\n",
            "                 Class     Images  Instances      Box(P          R      mAP50  mAP50-95): 100%|██████████| 8/8 [00:03<00:00,  2.53it/s]"
          ]
        },
        {
          "output_type": "stream",
          "name": "stdout",
          "text": [
            "                   all        248        765      0.246       0.19      0.141     0.0873\n"
          ]
        },
        {
          "output_type": "stream",
          "name": "stderr",
          "text": [
            "\n"
          ]
        },
        {
          "output_type": "stream",
          "name": "stdout",
          "text": [
            "\n",
            "      Epoch    GPU_mem   box_loss   cls_loss   dfl_loss  Instances       Size\n"
          ]
        },
        {
          "output_type": "stream",
          "name": "stderr",
          "text": [
            "     14/200      3.14G      1.413      2.315      1.326         41        640: 100%|██████████| 193/193 [01:54<00:00,  1.68it/s]\n",
            "                 Class     Images  Instances      Box(P          R      mAP50  mAP50-95): 100%|██████████| 8/8 [00:05<00:00,  1.56it/s]\n"
          ]
        },
        {
          "output_type": "stream",
          "name": "stdout",
          "text": [
            "                   all        248        765      0.295      0.189      0.159     0.0931\n",
            "\n",
            "      Epoch    GPU_mem   box_loss   cls_loss   dfl_loss  Instances       Size\n"
          ]
        },
        {
          "output_type": "stream",
          "name": "stderr",
          "text": [
            "     15/200      3.02G      1.406      2.247       1.32         51        640: 100%|██████████| 193/193 [02:00<00:00,  1.60it/s]\n",
            "                 Class     Images  Instances      Box(P          R      mAP50  mAP50-95): 100%|██████████| 8/8 [00:03<00:00,  2.09it/s]"
          ]
        },
        {
          "output_type": "stream",
          "name": "stdout",
          "text": [
            "                   all        248        765      0.254      0.218      0.177      0.109\n"
          ]
        },
        {
          "output_type": "stream",
          "name": "stderr",
          "text": [
            "\n"
          ]
        },
        {
          "output_type": "stream",
          "name": "stdout",
          "text": [
            "\n",
            "      Epoch    GPU_mem   box_loss   cls_loss   dfl_loss  Instances       Size\n"
          ]
        },
        {
          "output_type": "stream",
          "name": "stderr",
          "text": [
            "     16/200      3.13G      1.393      2.216       1.31         43        640: 100%|██████████| 193/193 [02:01<00:00,  1.59it/s]\n",
            "                 Class     Images  Instances      Box(P          R      mAP50  mAP50-95): 100%|██████████| 8/8 [00:03<00:00,  2.32it/s]"
          ]
        },
        {
          "output_type": "stream",
          "name": "stdout",
          "text": [
            "                   all        248        765      0.321      0.193      0.165      0.103\n"
          ]
        },
        {
          "output_type": "stream",
          "name": "stderr",
          "text": [
            "\n"
          ]
        },
        {
          "output_type": "stream",
          "name": "stdout",
          "text": [
            "\n",
            "      Epoch    GPU_mem   box_loss   cls_loss   dfl_loss  Instances       Size\n"
          ]
        },
        {
          "output_type": "stream",
          "name": "stderr",
          "text": [
            "     17/200      3.14G      1.376      2.175      1.302         37        640: 100%|██████████| 193/193 [01:57<00:00,  1.65it/s]\n",
            "                 Class     Images  Instances      Box(P          R      mAP50  mAP50-95): 100%|██████████| 8/8 [00:05<00:00,  1.55it/s]"
          ]
        },
        {
          "output_type": "stream",
          "name": "stdout",
          "text": [
            "                   all        248        765      0.225      0.225      0.148     0.0831\n"
          ]
        },
        {
          "output_type": "stream",
          "name": "stderr",
          "text": [
            "\n"
          ]
        },
        {
          "output_type": "stream",
          "name": "stdout",
          "text": [
            "\n",
            "      Epoch    GPU_mem   box_loss   cls_loss   dfl_loss  Instances       Size\n"
          ]
        },
        {
          "output_type": "stream",
          "name": "stderr",
          "text": [
            "     18/200         3G      1.369      2.084      1.295         53        640:   5%|▌         | 10/193 [00:04<01:18,  2.32it/s]"
          ]
        }
      ]
    },
    {
      "cell_type": "code",
      "source": [],
      "metadata": {
        "id": "znp8mQy2t_ZU"
      },
      "execution_count": null,
      "outputs": []
    },
    {
      "cell_type": "code",
      "source": [
        "metrics = model.val()  # evaluate model performance on the validation set\n",
        "metrics"
      ],
      "metadata": {
        "colab": {
          "base_uri": "https://localhost:8080/"
        },
        "collapsed": true,
        "id": "YMc6IzzoMfGp",
        "outputId": "616fe191-6194-46d4-f72c-f2189fa184f6"
      },
      "execution_count": null,
      "outputs": [
        {
          "output_type": "stream",
          "name": "stdout",
          "text": [
            "Ultralytics YOLOv8.2.86 🚀 Python-3.10.12 torch-2.4.0+cu121 CUDA:0 (Tesla T4, 15102MiB)\n",
            "YOLOv9t summary (fused): 486 layers, 1,970,979 parameters, 0 gradients, 7.6 GFLOPs\n"
          ]
        },
        {
          "output_type": "stream",
          "name": "stderr",
          "text": [
            "\u001b[34m\u001b[1mval: \u001b[0mScanning /content/TACO-dataset-15/valid/labels.cache... 189 images, 5 backgrounds, 0 corrupt: 100%|██████████| 189/189 [00:00<?, ?it/s]\n",
            "os.fork() was called. os.fork() is incompatible with multithreaded code, and JAX is multithreaded, so this will likely lead to a deadlock.\n",
            "                 Class     Images  Instances      Box(P          R      mAP50  mAP50-95): 100%|██████████| 12/12 [00:07<00:00,  1.70it/s]\n"
          ]
        },
        {
          "output_type": "stream",
          "name": "stdout",
          "text": [
            "                   all        189        364      0.678      0.474      0.489      0.313\n",
            "Speed: 0.7ms preprocess, 11.3ms inference, 0.0ms loss, 6.0ms postprocess per image\n",
            "Results saved to \u001b[1mruns/detect/train32\u001b[0m\n"
          ]
        },
        {
          "output_type": "execute_result",
          "data": {
            "text/plain": [
              "ultralytics.utils.metrics.DetMetrics object with attributes:\n",
              "\n",
              "ap_class_index: array([0])\n",
              "box: ultralytics.utils.metrics.Metric object\n",
              "confusion_matrix: <ultralytics.utils.metrics.ConfusionMatrix object at 0x7c8c7fd3e740>\n",
              "curves: ['Precision-Recall(B)', 'F1-Confidence(B)', 'Precision-Confidence(B)', 'Recall-Confidence(B)']\n",
              "curves_results: [[array([          0,    0.001001,    0.002002,    0.003003,    0.004004,    0.005005,    0.006006,    0.007007,    0.008008,    0.009009,     0.01001,    0.011011,    0.012012,    0.013013,    0.014014,    0.015015,    0.016016,    0.017017,    0.018018,    0.019019,     0.02002,    0.021021,    0.022022,    0.023023,\n",
              "          0.024024,    0.025025,    0.026026,    0.027027,    0.028028,    0.029029,     0.03003,    0.031031,    0.032032,    0.033033,    0.034034,    0.035035,    0.036036,    0.037037,    0.038038,    0.039039,     0.04004,    0.041041,    0.042042,    0.043043,    0.044044,    0.045045,    0.046046,    0.047047,\n",
              "          0.048048,    0.049049,     0.05005,    0.051051,    0.052052,    0.053053,    0.054054,    0.055055,    0.056056,    0.057057,    0.058058,    0.059059,     0.06006,    0.061061,    0.062062,    0.063063,    0.064064,    0.065065,    0.066066,    0.067067,    0.068068,    0.069069,     0.07007,    0.071071,\n",
              "          0.072072,    0.073073,    0.074074,    0.075075,    0.076076,    0.077077,    0.078078,    0.079079,     0.08008,    0.081081,    0.082082,    0.083083,    0.084084,    0.085085,    0.086086,    0.087087,    0.088088,    0.089089,     0.09009,    0.091091,    0.092092,    0.093093,    0.094094,    0.095095,\n",
              "          0.096096,    0.097097,    0.098098,    0.099099,      0.1001,      0.1011,      0.1021,      0.1031,      0.1041,     0.10511,     0.10611,     0.10711,     0.10811,     0.10911,     0.11011,     0.11111,     0.11211,     0.11311,     0.11411,     0.11512,     0.11612,     0.11712,     0.11812,     0.11912,\n",
              "           0.12012,     0.12112,     0.12212,     0.12312,     0.12412,     0.12513,     0.12613,     0.12713,     0.12813,     0.12913,     0.13013,     0.13113,     0.13213,     0.13313,     0.13413,     0.13514,     0.13614,     0.13714,     0.13814,     0.13914,     0.14014,     0.14114,     0.14214,     0.14314,\n",
              "           0.14414,     0.14515,     0.14615,     0.14715,     0.14815,     0.14915,     0.15015,     0.15115,     0.15215,     0.15315,     0.15415,     0.15516,     0.15616,     0.15716,     0.15816,     0.15916,     0.16016,     0.16116,     0.16216,     0.16316,     0.16416,     0.16517,     0.16617,     0.16717,\n",
              "           0.16817,     0.16917,     0.17017,     0.17117,     0.17217,     0.17317,     0.17417,     0.17518,     0.17618,     0.17718,     0.17818,     0.17918,     0.18018,     0.18118,     0.18218,     0.18318,     0.18418,     0.18519,     0.18619,     0.18719,     0.18819,     0.18919,     0.19019,     0.19119,\n",
              "           0.19219,     0.19319,     0.19419,      0.1952,      0.1962,      0.1972,      0.1982,      0.1992,      0.2002,      0.2012,      0.2022,      0.2032,      0.2042,     0.20521,     0.20621,     0.20721,     0.20821,     0.20921,     0.21021,     0.21121,     0.21221,     0.21321,     0.21421,     0.21522,\n",
              "           0.21622,     0.21722,     0.21822,     0.21922,     0.22022,     0.22122,     0.22222,     0.22322,     0.22422,     0.22523,     0.22623,     0.22723,     0.22823,     0.22923,     0.23023,     0.23123,     0.23223,     0.23323,     0.23423,     0.23524,     0.23624,     0.23724,     0.23824,     0.23924,\n",
              "           0.24024,     0.24124,     0.24224,     0.24324,     0.24424,     0.24525,     0.24625,     0.24725,     0.24825,     0.24925,     0.25025,     0.25125,     0.25225,     0.25325,     0.25425,     0.25526,     0.25626,     0.25726,     0.25826,     0.25926,     0.26026,     0.26126,     0.26226,     0.26326,\n",
              "           0.26426,     0.26527,     0.26627,     0.26727,     0.26827,     0.26927,     0.27027,     0.27127,     0.27227,     0.27327,     0.27427,     0.27528,     0.27628,     0.27728,     0.27828,     0.27928,     0.28028,     0.28128,     0.28228,     0.28328,     0.28428,     0.28529,     0.28629,     0.28729,\n",
              "           0.28829,     0.28929,     0.29029,     0.29129,     0.29229,     0.29329,     0.29429,      0.2953,      0.2963,      0.2973,      0.2983,      0.2993,      0.3003,      0.3013,      0.3023,      0.3033,      0.3043,     0.30531,     0.30631,     0.30731,     0.30831,     0.30931,     0.31031,     0.31131,\n",
              "           0.31231,     0.31331,     0.31431,     0.31532,     0.31632,     0.31732,     0.31832,     0.31932,     0.32032,     0.32132,     0.32232,     0.32332,     0.32432,     0.32533,     0.32633,     0.32733,     0.32833,     0.32933,     0.33033,     0.33133,     0.33233,     0.33333,     0.33433,     0.33534,\n",
              "           0.33634,     0.33734,     0.33834,     0.33934,     0.34034,     0.34134,     0.34234,     0.34334,     0.34434,     0.34535,     0.34635,     0.34735,     0.34835,     0.34935,     0.35035,     0.35135,     0.35235,     0.35335,     0.35435,     0.35536,     0.35636,     0.35736,     0.35836,     0.35936,\n",
              "           0.36036,     0.36136,     0.36236,     0.36336,     0.36436,     0.36537,     0.36637,     0.36737,     0.36837,     0.36937,     0.37037,     0.37137,     0.37237,     0.37337,     0.37437,     0.37538,     0.37638,     0.37738,     0.37838,     0.37938,     0.38038,     0.38138,     0.38238,     0.38338,\n",
              "           0.38438,     0.38539,     0.38639,     0.38739,     0.38839,     0.38939,     0.39039,     0.39139,     0.39239,     0.39339,     0.39439,      0.3954,      0.3964,      0.3974,      0.3984,      0.3994,      0.4004,      0.4014,      0.4024,      0.4034,      0.4044,     0.40541,     0.40641,     0.40741,\n",
              "           0.40841,     0.40941,     0.41041,     0.41141,     0.41241,     0.41341,     0.41441,     0.41542,     0.41642,     0.41742,     0.41842,     0.41942,     0.42042,     0.42142,     0.42242,     0.42342,     0.42442,     0.42543,     0.42643,     0.42743,     0.42843,     0.42943,     0.43043,     0.43143,\n",
              "           0.43243,     0.43343,     0.43443,     0.43544,     0.43644,     0.43744,     0.43844,     0.43944,     0.44044,     0.44144,     0.44244,     0.44344,     0.44444,     0.44545,     0.44645,     0.44745,     0.44845,     0.44945,     0.45045,     0.45145,     0.45245,     0.45345,     0.45445,     0.45546,\n",
              "           0.45646,     0.45746,     0.45846,     0.45946,     0.46046,     0.46146,     0.46246,     0.46346,     0.46446,     0.46547,     0.46647,     0.46747,     0.46847,     0.46947,     0.47047,     0.47147,     0.47247,     0.47347,     0.47447,     0.47548,     0.47648,     0.47748,     0.47848,     0.47948,\n",
              "           0.48048,     0.48148,     0.48248,     0.48348,     0.48448,     0.48549,     0.48649,     0.48749,     0.48849,     0.48949,     0.49049,     0.49149,     0.49249,     0.49349,     0.49449,      0.4955,      0.4965,      0.4975,      0.4985,      0.4995,      0.5005,      0.5015,      0.5025,      0.5035,\n",
              "            0.5045,     0.50551,     0.50651,     0.50751,     0.50851,     0.50951,     0.51051,     0.51151,     0.51251,     0.51351,     0.51451,     0.51552,     0.51652,     0.51752,     0.51852,     0.51952,     0.52052,     0.52152,     0.52252,     0.52352,     0.52452,     0.52553,     0.52653,     0.52753,\n",
              "           0.52853,     0.52953,     0.53053,     0.53153,     0.53253,     0.53353,     0.53453,     0.53554,     0.53654,     0.53754,     0.53854,     0.53954,     0.54054,     0.54154,     0.54254,     0.54354,     0.54454,     0.54555,     0.54655,     0.54755,     0.54855,     0.54955,     0.55055,     0.55155,\n",
              "           0.55255,     0.55355,     0.55455,     0.55556,     0.55656,     0.55756,     0.55856,     0.55956,     0.56056,     0.56156,     0.56256,     0.56356,     0.56456,     0.56557,     0.56657,     0.56757,     0.56857,     0.56957,     0.57057,     0.57157,     0.57257,     0.57357,     0.57457,     0.57558,\n",
              "           0.57658,     0.57758,     0.57858,     0.57958,     0.58058,     0.58158,     0.58258,     0.58358,     0.58458,     0.58559,     0.58659,     0.58759,     0.58859,     0.58959,     0.59059,     0.59159,     0.59259,     0.59359,     0.59459,      0.5956,      0.5966,      0.5976,      0.5986,      0.5996,\n",
              "            0.6006,      0.6016,      0.6026,      0.6036,      0.6046,     0.60561,     0.60661,     0.60761,     0.60861,     0.60961,     0.61061,     0.61161,     0.61261,     0.61361,     0.61461,     0.61562,     0.61662,     0.61762,     0.61862,     0.61962,     0.62062,     0.62162,     0.62262,     0.62362,\n",
              "           0.62462,     0.62563,     0.62663,     0.62763,     0.62863,     0.62963,     0.63063,     0.63163,     0.63263,     0.63363,     0.63463,     0.63564,     0.63664,     0.63764,     0.63864,     0.63964,     0.64064,     0.64164,     0.64264,     0.64364,     0.64464,     0.64565,     0.64665,     0.64765,\n",
              "           0.64865,     0.64965,     0.65065,     0.65165,     0.65265,     0.65365,     0.65465,     0.65566,     0.65666,     0.65766,     0.65866,     0.65966,     0.66066,     0.66166,     0.66266,     0.66366,     0.66466,     0.66567,     0.66667,     0.66767,     0.66867,     0.66967,     0.67067,     0.67167,\n",
              "           0.67267,     0.67367,     0.67467,     0.67568,     0.67668,     0.67768,     0.67868,     0.67968,     0.68068,     0.68168,     0.68268,     0.68368,     0.68468,     0.68569,     0.68669,     0.68769,     0.68869,     0.68969,     0.69069,     0.69169,     0.69269,     0.69369,     0.69469,      0.6957,\n",
              "            0.6967,      0.6977,      0.6987,      0.6997,      0.7007,      0.7017,      0.7027,      0.7037,      0.7047,     0.70571,     0.70671,     0.70771,     0.70871,     0.70971,     0.71071,     0.71171,     0.71271,     0.71371,     0.71471,     0.71572,     0.71672,     0.71772,     0.71872,     0.71972,\n",
              "           0.72072,     0.72172,     0.72272,     0.72372,     0.72472,     0.72573,     0.72673,     0.72773,     0.72873,     0.72973,     0.73073,     0.73173,     0.73273,     0.73373,     0.73473,     0.73574,     0.73674,     0.73774,     0.73874,     0.73974,     0.74074,     0.74174,     0.74274,     0.74374,\n",
              "           0.74474,     0.74575,     0.74675,     0.74775,     0.74875,     0.74975,     0.75075,     0.75175,     0.75275,     0.75375,     0.75475,     0.75576,     0.75676,     0.75776,     0.75876,     0.75976,     0.76076,     0.76176,     0.76276,     0.76376,     0.76476,     0.76577,     0.76677,     0.76777,\n",
              "           0.76877,     0.76977,     0.77077,     0.77177,     0.77277,     0.77377,     0.77477,     0.77578,     0.77678,     0.77778,     0.77878,     0.77978,     0.78078,     0.78178,     0.78278,     0.78378,     0.78478,     0.78579,     0.78679,     0.78779,     0.78879,     0.78979,     0.79079,     0.79179,\n",
              "           0.79279,     0.79379,     0.79479,      0.7958,      0.7968,      0.7978,      0.7988,      0.7998,      0.8008,      0.8018,      0.8028,      0.8038,      0.8048,     0.80581,     0.80681,     0.80781,     0.80881,     0.80981,     0.81081,     0.81181,     0.81281,     0.81381,     0.81481,     0.81582,\n",
              "           0.81682,     0.81782,     0.81882,     0.81982,     0.82082,     0.82182,     0.82282,     0.82382,     0.82482,     0.82583,     0.82683,     0.82783,     0.82883,     0.82983,     0.83083,     0.83183,     0.83283,     0.83383,     0.83483,     0.83584,     0.83684,     0.83784,     0.83884,     0.83984,\n",
              "           0.84084,     0.84184,     0.84284,     0.84384,     0.84484,     0.84585,     0.84685,     0.84785,     0.84885,     0.84985,     0.85085,     0.85185,     0.85285,     0.85385,     0.85485,     0.85586,     0.85686,     0.85786,     0.85886,     0.85986,     0.86086,     0.86186,     0.86286,     0.86386,\n",
              "           0.86486,     0.86587,     0.86687,     0.86787,     0.86887,     0.86987,     0.87087,     0.87187,     0.87287,     0.87387,     0.87487,     0.87588,     0.87688,     0.87788,     0.87888,     0.87988,     0.88088,     0.88188,     0.88288,     0.88388,     0.88488,     0.88589,     0.88689,     0.88789,\n",
              "           0.88889,     0.88989,     0.89089,     0.89189,     0.89289,     0.89389,     0.89489,      0.8959,      0.8969,      0.8979,      0.8989,      0.8999,      0.9009,      0.9019,      0.9029,      0.9039,      0.9049,     0.90591,     0.90691,     0.90791,     0.90891,     0.90991,     0.91091,     0.91191,\n",
              "           0.91291,     0.91391,     0.91491,     0.91592,     0.91692,     0.91792,     0.91892,     0.91992,     0.92092,     0.92192,     0.92292,     0.92392,     0.92492,     0.92593,     0.92693,     0.92793,     0.92893,     0.92993,     0.93093,     0.93193,     0.93293,     0.93393,     0.93493,     0.93594,\n",
              "           0.93694,     0.93794,     0.93894,     0.93994,     0.94094,     0.94194,     0.94294,     0.94394,     0.94494,     0.94595,     0.94695,     0.94795,     0.94895,     0.94995,     0.95095,     0.95195,     0.95295,     0.95395,     0.95495,     0.95596,     0.95696,     0.95796,     0.95896,     0.95996,\n",
              "           0.96096,     0.96196,     0.96296,     0.96396,     0.96496,     0.96597,     0.96697,     0.96797,     0.96897,     0.96997,     0.97097,     0.97197,     0.97297,     0.97397,     0.97497,     0.97598,     0.97698,     0.97798,     0.97898,     0.97998,     0.98098,     0.98198,     0.98298,     0.98398,\n",
              "           0.98498,     0.98599,     0.98699,     0.98799,     0.98899,     0.98999,     0.99099,     0.99199,     0.99299,     0.99399,     0.99499,       0.996,       0.997,       0.998,       0.999,           1]), array([[          1,           1,           1,           1,           1,           1,           1,           1,           1,           1,           1,           1,           1,           1,           1,           1,           1,           1,           1,           1,           1,           1,           1,\n",
              "                  1,           1,           1,           1,           1,           1,           1,           1,           1,           1,           1,           1,           1,           1,           1,           1,           1,           1,           1,     0.97727,     0.97727,     0.97727,     0.97727,\n",
              "            0.97727,     0.97727,     0.97727,     0.97727,     0.97727,     0.97727,     0.97727,     0.97727,     0.97727,     0.97727,     0.97727,     0.97727,     0.97727,     0.97727,     0.97727,     0.97727,     0.97727,     0.97727,     0.97727,     0.97727,     0.97727,     0.97727,     0.97727,\n",
              "            0.97727,     0.97727,     0.97727,     0.97727,     0.97727,     0.97727,     0.97727,     0.97727,     0.97727,     0.97727,     0.97727,     0.97727,     0.97727,     0.97727,     0.97727,     0.97727,     0.97727,     0.97727,     0.97727,     0.97727,     0.97727,     0.97727,     0.97727,\n",
              "            0.97727,     0.97727,     0.97727,     0.97727,     0.97727,     0.97727,     0.97727,     0.97727,     0.97727,     0.97727,     0.97727,     0.97727,     0.97727,     0.97727,     0.97727,     0.97727,     0.97727,     0.97727,     0.97727,     0.97727,     0.97727,     0.97727,     0.97727,\n",
              "            0.97727,     0.97727,     0.97727,     0.97727,     0.96296,     0.96296,     0.96296,     0.96296,     0.96296,     0.96296,     0.96296,     0.96296,     0.96296,     0.96296,     0.96296,     0.96296,     0.96296,     0.96296,     0.96296,     0.96296,     0.96296,     0.96296,     0.96296,\n",
              "            0.96296,     0.96296,     0.96296,     0.96296,     0.96296,     0.94643,     0.94643,     0.94643,     0.93651,     0.93651,     0.93651,     0.93651,     0.93651,     0.93651,     0.93651,     0.93651,     0.93651,     0.93651,     0.93651,     0.93651,     0.93651,     0.93651,     0.93651,\n",
              "            0.93651,     0.93421,     0.93421,     0.93421,     0.93421,     0.93421,     0.93421,     0.93421,     0.93421,     0.93421,     0.93421,     0.93421,     0.93421,     0.93421,     0.93421,     0.93421,     0.93421,     0.93421,     0.93421,     0.93421,     0.93421,     0.93421,     0.93421,\n",
              "            0.93421,     0.93421,     0.93421,     0.93421,     0.93421,     0.93421,     0.93421,     0.93421,     0.93421,     0.93421,     0.93421,     0.92771,     0.92771,     0.92771,     0.92771,     0.92771,     0.92771,     0.92771,     0.92771,     0.92771,     0.92771,     0.92771,     0.92771,\n",
              "            0.92771,     0.92771,     0.92771,     0.92771,     0.92771,     0.91011,     0.91011,     0.91011,     0.91011,     0.91011,     0.91011,     0.91011,     0.91011,     0.91011,     0.91011,     0.91011,     0.90196,     0.90196,     0.90196,     0.90196,     0.90196,     0.90196,     0.90196,\n",
              "            0.90196,     0.90196,     0.90196,     0.90196,     0.90196,     0.90196,     0.90196,     0.90196,     0.90196,     0.90196,     0.90196,     0.90196,     0.90196,     0.90196,     0.90196,     0.90196,     0.90196,     0.90196,     0.90196,     0.90196,     0.90196,     0.90196,     0.90196,\n",
              "            0.89916,     0.89916,     0.89916,     0.89916,     0.89916,     0.89916,     0.89916,     0.89916,     0.89916,     0.89916,     0.89916,     0.89916,     0.89916,     0.89916,     0.89916,     0.89916,     0.89916,     0.89916,     0.89916,     0.89916,     0.89916,     0.89916,     0.89916,\n",
              "            0.89916,     0.89916,     0.89916,     0.89916,     0.89916,     0.89916,     0.89916,     0.89916,     0.89916,     0.89916,     0.89916,     0.89916,     0.89916,     0.89916,     0.89916,     0.89916,     0.89916,     0.89916,     0.88618,     0.88618,     0.88618,     0.88618,     0.88618,\n",
              "            0.88618,        0.88,        0.88,     0.84848,     0.84848,     0.84848,     0.84848,     0.84848,     0.84848,     0.84328,     0.84328,     0.84328,     0.83453,     0.83453,     0.83453,     0.83453,     0.83453,     0.83453,     0.83453,     0.83453,     0.82877,     0.82877,     0.82877,\n",
              "            0.82877,     0.82877,     0.82877,     0.82877,     0.82877,     0.82877,     0.82877,     0.82877,     0.82877,     0.82877,     0.82877,     0.82432,     0.82432,     0.81699,     0.81699,     0.81699,     0.81699,     0.81699,     0.81699,     0.81699,     0.81699,     0.81699,     0.80625,\n",
              "            0.80625,     0.80625,     0.80625,     0.80625,     0.80625,     0.80625,     0.80625,     0.80625,     0.80625,     0.80625,     0.80606,     0.80606,     0.80606,     0.80606,     0.80606,     0.80606,     0.80606,     0.80606,     0.80606,     0.80606,     0.80606,     0.80357,     0.80357,\n",
              "            0.80357,     0.80357,     0.80357,     0.78857,     0.78857,     0.78857,     0.78857,     0.78857,     0.78857,     0.78857,     0.78857,     0.78333,     0.78333,     0.78333,     0.78333,     0.78333,     0.78333,     0.78333,     0.78333,     0.78022,     0.78022,     0.78022,     0.77717,\n",
              "            0.77717,     0.77717,     0.77419,     0.77419,     0.77419,     0.77128,     0.77128,     0.75897,     0.75897,     0.75897,     0.75897,     0.75897,     0.75897,     0.75897,     0.75897,     0.75897,     0.72683,     0.72683,     0.72464,     0.72464,     0.72464,     0.72381,     0.72381,\n",
              "            0.72381,     0.72381,     0.72381,     0.72381,       0.723,       0.723,       0.723,       0.723,       0.723,     0.72018,     0.72018,     0.72018,     0.72018,     0.72018,     0.72018,     0.72018,     0.72018,     0.71493,     0.71493,     0.71493,     0.69565,     0.69565,     0.69565,\n",
              "            0.69565,     0.69565,     0.69565,     0.69099,     0.69099,     0.68936,     0.68936,     0.68936,      0.6888,      0.6888,      0.6888,      0.6888,      0.6888,      0.6888,      0.6888,      0.6888,      0.6888,      0.6888,      0.6888,     0.68724,     0.68724,     0.68724,     0.68571,\n",
              "            0.68571,     0.68571,     0.68145,     0.68145,     0.68127,     0.68127,     0.68127,     0.68127,     0.68127,     0.68127,     0.67843,     0.67843,     0.67843,     0.67843,     0.67843,     0.67442,     0.67442,     0.67442,     0.66288,     0.66288,     0.66288,     0.61324,     0.61324,\n",
              "            0.61324,     0.60616,     0.60616,     0.60135,     0.60135,     0.60135,     0.59667,     0.59667,     0.59667,     0.57692,     0.57692,     0.57692,     0.57278,     0.57278,     0.56966,     0.56966,     0.56966,     0.56966,     0.56966,     0.56966,     0.56966,     0.56966,     0.56575,\n",
              "            0.56575,     0.56575,     0.56193,     0.56193,     0.56193,     0.55162,     0.55162,     0.55162,     0.53714,     0.53714,     0.53541,     0.53541,     0.53541,     0.51075,     0.51075,     0.51075,     0.50798,     0.50798,     0.50798,     0.48855,     0.48855,     0.48737,     0.48737,\n",
              "            0.48737,      0.4802,      0.4802,      0.4802,      0.4733,      0.4733,      0.4733,     0.45266,     0.45266,      0.4508,      0.4508,      0.4508,     0.44295,     0.44295,     0.44295,     0.42827,     0.42827,     0.42827,     0.42827,     0.42827,     0.41104,     0.41104,     0.41104,\n",
              "            0.39147,     0.39147,     0.39147,     0.39038,     0.39038,     0.39038,      0.3871,      0.3871,     0.36092,     0.36092,     0.36092,     0.35094,     0.35094,     0.35094,     0.34783,     0.34783,     0.34783,     0.34783,     0.34783,     0.31722,     0.31722,     0.31722,     0.31722,\n",
              "            0.31722,     0.31722,     0.31399,     0.31399,     0.31399,     0.30156,     0.30156,     0.26826,     0.26826,     0.26826,     0.26584,     0.26584,     0.26584,     0.25264,     0.25264,     0.25264,        0.25,        0.25,     0.23233,     0.23233,     0.23233,     0.22827,     0.22827,\n",
              "            0.22827,     0.22741,     0.22741,     0.22741,     0.22335,     0.22335,     0.21838,     0.21838,     0.21838,     0.21224,     0.21224,     0.21224,     0.20993,     0.20993,     0.20993,     0.20993,     0.20993,     0.20053,     0.20053,     0.20053,     0.19842,     0.19842,     0.19842,\n",
              "             0.1793,      0.1793,      0.1793,     0.14873,     0.14873,     0.14224,     0.14224,     0.14224,     0.13715,     0.13715,     0.13715,     0.12507,     0.12507,     0.12393,     0.12393,     0.12393,     0.10292,     0.10292,     0.10292,    0.093812,    0.093812,    0.093812,    0.093812,\n",
              "           0.093812,    0.093023,    0.093023,    0.093023,    0.087551,    0.087551,    0.087551,    0.086766,    0.086766,    0.086766,    0.084722,    0.084722,    0.083218,    0.083218,    0.083218,    0.082168,    0.082168,    0.082168,    0.071302,    0.071302,    0.071302,    0.062532,    0.062532,\n",
              "           0.062074,    0.062074,    0.062074,    0.062074,    0.062074,    0.062074,    0.062074,    0.062074,    0.062074,    0.057415,    0.057415,    0.056287,    0.056287,    0.056287,    0.054213,    0.054213,    0.054213,    0.053879,    0.053879,    0.053879,    0.053793,    0.053793,    0.049647,\n",
              "           0.049647,    0.049647,    0.049647,    0.049647,    0.049647,    0.048696,    0.048696,    0.048696,    0.047977,    0.047977,    0.042624,    0.042624,    0.042624,    0.039679,    0.039679,    0.039679,    0.039216,    0.039216,    0.039216,    0.035714,    0.035714,    0.035714,    0.035714,\n",
              "           0.035714,    0.034455,    0.034455,    0.034455,    0.032183,    0.032183,    0.032183,    0.031771,    0.031771,    0.031235,    0.031235,    0.031235,    0.030767,    0.030767,    0.030767,    0.024341,    0.024341,    0.024341,    0.023649,    0.023649,    0.023619,    0.023619,    0.023619,\n",
              "           0.023619,    0.023619,    0.023619,     0.02356,     0.02356,     0.02356,    0.023514,    0.023514,    0.022541,    0.022541,    0.022541,    0.020596,    0.020596,    0.020596,    0.019969,    0.019969,    0.019811,    0.019811,    0.019811,    0.017332,    0.017332,    0.017332,    0.016452,\n",
              "           0.016452,    0.016452,    0.015725,    0.015725,    0.015667,    0.015667,    0.015667,    0.014922,    0.014922,    0.014922,    0.014922,    0.014922,    0.014922,    0.014738,    0.014738,     0.01309,     0.01309,     0.01309,    0.012689,    0.012689,    0.012689,    0.012689,    0.012689,\n",
              "           0.012689,    0.012596,    0.012596,    0.011735,    0.011735,    0.011735,    0.011269,    0.011215,    0.011162,    0.011109,    0.011055,    0.011002,    0.010948,    0.010895,    0.010842,    0.010788,    0.010735,    0.010681,    0.010628,    0.010575,    0.010521,    0.010468,    0.010414,\n",
              "           0.010361,    0.010308,    0.010254,    0.010201,    0.010147,    0.010094,    0.010041,   0.0099871,   0.0099337,   0.0098803,   0.0098269,   0.0097735,   0.0097201,   0.0096667,   0.0096133,   0.0095598,   0.0095064,    0.009453,   0.0093996,   0.0093462,   0.0092928,   0.0092394,    0.009186,\n",
              "          0.0091326,   0.0090792,   0.0090258,   0.0089724,    0.008919,   0.0088656,   0.0088121,   0.0087587,   0.0087053,   0.0086519,   0.0085985,   0.0085451,   0.0084917,   0.0084383,   0.0083849,   0.0083315,   0.0082781,   0.0082247,   0.0081713,   0.0081179,   0.0080644,    0.008011,   0.0079576,\n",
              "          0.0079042,   0.0078508,   0.0077974,    0.007744,   0.0076906,   0.0076372,   0.0075838,   0.0075304,    0.007477,   0.0074236,   0.0073702,   0.0073168,   0.0072633,   0.0072099,   0.0071565,   0.0071031,   0.0070497,   0.0069963,   0.0069429,   0.0068895,   0.0068361,   0.0067827,   0.0067293,\n",
              "          0.0066759,   0.0066225,   0.0065691,   0.0065156,   0.0064622,   0.0064088,   0.0063554,    0.006302,   0.0062486,   0.0061952,   0.0061418,   0.0060884,    0.006035,   0.0059816,   0.0059282,   0.0058748,   0.0058214,    0.005768,   0.0057145,   0.0056611,   0.0056077,   0.0055543,   0.0055009,\n",
              "          0.0054475,   0.0053941,   0.0053407,   0.0052873,   0.0052339,   0.0051805,   0.0051271,   0.0050737,   0.0050203,   0.0049668,   0.0049134,     0.00486,   0.0048066,   0.0047532,   0.0046998,   0.0046464,    0.004593,   0.0045396,   0.0044862,   0.0044328,   0.0043794,    0.004326,   0.0042726,\n",
              "          0.0042191,   0.0041657,   0.0041123,   0.0040589,   0.0040055,   0.0039521,   0.0038987,   0.0038453,   0.0037919,   0.0037385,   0.0036851,   0.0036317,   0.0035783,   0.0035249,   0.0034715,    0.003418,   0.0033646,   0.0033112,   0.0032578,   0.0032044,    0.003151,   0.0030976,   0.0030442,\n",
              "          0.0029908,   0.0029374,    0.002884,   0.0028306,   0.0027772,   0.0027238,   0.0026703,   0.0026169,   0.0025635,   0.0025101,   0.0024567,   0.0024033,   0.0023499,   0.0022965,   0.0022431,   0.0021897,   0.0021363,   0.0020829,   0.0020295,   0.0019761,   0.0019227,   0.0018692,   0.0018158,\n",
              "          0.0017624,    0.001709,   0.0016556,   0.0016022,   0.0015488,   0.0014954,    0.001442,   0.0013886,   0.0013352,   0.0012818,   0.0012284,    0.001175,   0.0011215,   0.0010681,   0.0010147,  0.00096133,  0.00090792,  0.00085451,   0.0008011,   0.0007477,  0.00069429,  0.00064088,  0.00058748,\n",
              "         0.00053407,  0.00048066,  0.00042726,  0.00037385,  0.00032044,  0.00026703,  0.00021363,  0.00016022,  0.00010681,  5.3407e-05,           0]]), 'Recall', 'Precision'], [array([          0,    0.001001,    0.002002,    0.003003,    0.004004,    0.005005,    0.006006,    0.007007,    0.008008,    0.009009,     0.01001,    0.011011,    0.012012,    0.013013,    0.014014,    0.015015,    0.016016,    0.017017,    0.018018,    0.019019,     0.02002,    0.021021,    0.022022,    0.023023,\n",
              "          0.024024,    0.025025,    0.026026,    0.027027,    0.028028,    0.029029,     0.03003,    0.031031,    0.032032,    0.033033,    0.034034,    0.035035,    0.036036,    0.037037,    0.038038,    0.039039,     0.04004,    0.041041,    0.042042,    0.043043,    0.044044,    0.045045,    0.046046,    0.047047,\n",
              "          0.048048,    0.049049,     0.05005,    0.051051,    0.052052,    0.053053,    0.054054,    0.055055,    0.056056,    0.057057,    0.058058,    0.059059,     0.06006,    0.061061,    0.062062,    0.063063,    0.064064,    0.065065,    0.066066,    0.067067,    0.068068,    0.069069,     0.07007,    0.071071,\n",
              "          0.072072,    0.073073,    0.074074,    0.075075,    0.076076,    0.077077,    0.078078,    0.079079,     0.08008,    0.081081,    0.082082,    0.083083,    0.084084,    0.085085,    0.086086,    0.087087,    0.088088,    0.089089,     0.09009,    0.091091,    0.092092,    0.093093,    0.094094,    0.095095,\n",
              "          0.096096,    0.097097,    0.098098,    0.099099,      0.1001,      0.1011,      0.1021,      0.1031,      0.1041,     0.10511,     0.10611,     0.10711,     0.10811,     0.10911,     0.11011,     0.11111,     0.11211,     0.11311,     0.11411,     0.11512,     0.11612,     0.11712,     0.11812,     0.11912,\n",
              "           0.12012,     0.12112,     0.12212,     0.12312,     0.12412,     0.12513,     0.12613,     0.12713,     0.12813,     0.12913,     0.13013,     0.13113,     0.13213,     0.13313,     0.13413,     0.13514,     0.13614,     0.13714,     0.13814,     0.13914,     0.14014,     0.14114,     0.14214,     0.14314,\n",
              "           0.14414,     0.14515,     0.14615,     0.14715,     0.14815,     0.14915,     0.15015,     0.15115,     0.15215,     0.15315,     0.15415,     0.15516,     0.15616,     0.15716,     0.15816,     0.15916,     0.16016,     0.16116,     0.16216,     0.16316,     0.16416,     0.16517,     0.16617,     0.16717,\n",
              "           0.16817,     0.16917,     0.17017,     0.17117,     0.17217,     0.17317,     0.17417,     0.17518,     0.17618,     0.17718,     0.17818,     0.17918,     0.18018,     0.18118,     0.18218,     0.18318,     0.18418,     0.18519,     0.18619,     0.18719,     0.18819,     0.18919,     0.19019,     0.19119,\n",
              "           0.19219,     0.19319,     0.19419,      0.1952,      0.1962,      0.1972,      0.1982,      0.1992,      0.2002,      0.2012,      0.2022,      0.2032,      0.2042,     0.20521,     0.20621,     0.20721,     0.20821,     0.20921,     0.21021,     0.21121,     0.21221,     0.21321,     0.21421,     0.21522,\n",
              "           0.21622,     0.21722,     0.21822,     0.21922,     0.22022,     0.22122,     0.22222,     0.22322,     0.22422,     0.22523,     0.22623,     0.22723,     0.22823,     0.22923,     0.23023,     0.23123,     0.23223,     0.23323,     0.23423,     0.23524,     0.23624,     0.23724,     0.23824,     0.23924,\n",
              "           0.24024,     0.24124,     0.24224,     0.24324,     0.24424,     0.24525,     0.24625,     0.24725,     0.24825,     0.24925,     0.25025,     0.25125,     0.25225,     0.25325,     0.25425,     0.25526,     0.25626,     0.25726,     0.25826,     0.25926,     0.26026,     0.26126,     0.26226,     0.26326,\n",
              "           0.26426,     0.26527,     0.26627,     0.26727,     0.26827,     0.26927,     0.27027,     0.27127,     0.27227,     0.27327,     0.27427,     0.27528,     0.27628,     0.27728,     0.27828,     0.27928,     0.28028,     0.28128,     0.28228,     0.28328,     0.28428,     0.28529,     0.28629,     0.28729,\n",
              "           0.28829,     0.28929,     0.29029,     0.29129,     0.29229,     0.29329,     0.29429,      0.2953,      0.2963,      0.2973,      0.2983,      0.2993,      0.3003,      0.3013,      0.3023,      0.3033,      0.3043,     0.30531,     0.30631,     0.30731,     0.30831,     0.30931,     0.31031,     0.31131,\n",
              "           0.31231,     0.31331,     0.31431,     0.31532,     0.31632,     0.31732,     0.31832,     0.31932,     0.32032,     0.32132,     0.32232,     0.32332,     0.32432,     0.32533,     0.32633,     0.32733,     0.32833,     0.32933,     0.33033,     0.33133,     0.33233,     0.33333,     0.33433,     0.33534,\n",
              "           0.33634,     0.33734,     0.33834,     0.33934,     0.34034,     0.34134,     0.34234,     0.34334,     0.34434,     0.34535,     0.34635,     0.34735,     0.34835,     0.34935,     0.35035,     0.35135,     0.35235,     0.35335,     0.35435,     0.35536,     0.35636,     0.35736,     0.35836,     0.35936,\n",
              "           0.36036,     0.36136,     0.36236,     0.36336,     0.36436,     0.36537,     0.36637,     0.36737,     0.36837,     0.36937,     0.37037,     0.37137,     0.37237,     0.37337,     0.37437,     0.37538,     0.37638,     0.37738,     0.37838,     0.37938,     0.38038,     0.38138,     0.38238,     0.38338,\n",
              "           0.38438,     0.38539,     0.38639,     0.38739,     0.38839,     0.38939,     0.39039,     0.39139,     0.39239,     0.39339,     0.39439,      0.3954,      0.3964,      0.3974,      0.3984,      0.3994,      0.4004,      0.4014,      0.4024,      0.4034,      0.4044,     0.40541,     0.40641,     0.40741,\n",
              "           0.40841,     0.40941,     0.41041,     0.41141,     0.41241,     0.41341,     0.41441,     0.41542,     0.41642,     0.41742,     0.41842,     0.41942,     0.42042,     0.42142,     0.42242,     0.42342,     0.42442,     0.42543,     0.42643,     0.42743,     0.42843,     0.42943,     0.43043,     0.43143,\n",
              "           0.43243,     0.43343,     0.43443,     0.43544,     0.43644,     0.43744,     0.43844,     0.43944,     0.44044,     0.44144,     0.44244,     0.44344,     0.44444,     0.44545,     0.44645,     0.44745,     0.44845,     0.44945,     0.45045,     0.45145,     0.45245,     0.45345,     0.45445,     0.45546,\n",
              "           0.45646,     0.45746,     0.45846,     0.45946,     0.46046,     0.46146,     0.46246,     0.46346,     0.46446,     0.46547,     0.46647,     0.46747,     0.46847,     0.46947,     0.47047,     0.47147,     0.47247,     0.47347,     0.47447,     0.47548,     0.47648,     0.47748,     0.47848,     0.47948,\n",
              "           0.48048,     0.48148,     0.48248,     0.48348,     0.48448,     0.48549,     0.48649,     0.48749,     0.48849,     0.48949,     0.49049,     0.49149,     0.49249,     0.49349,     0.49449,      0.4955,      0.4965,      0.4975,      0.4985,      0.4995,      0.5005,      0.5015,      0.5025,      0.5035,\n",
              "            0.5045,     0.50551,     0.50651,     0.50751,     0.50851,     0.50951,     0.51051,     0.51151,     0.51251,     0.51351,     0.51451,     0.51552,     0.51652,     0.51752,     0.51852,     0.51952,     0.52052,     0.52152,     0.52252,     0.52352,     0.52452,     0.52553,     0.52653,     0.52753,\n",
              "           0.52853,     0.52953,     0.53053,     0.53153,     0.53253,     0.53353,     0.53453,     0.53554,     0.53654,     0.53754,     0.53854,     0.53954,     0.54054,     0.54154,     0.54254,     0.54354,     0.54454,     0.54555,     0.54655,     0.54755,     0.54855,     0.54955,     0.55055,     0.55155,\n",
              "           0.55255,     0.55355,     0.55455,     0.55556,     0.55656,     0.55756,     0.55856,     0.55956,     0.56056,     0.56156,     0.56256,     0.56356,     0.56456,     0.56557,     0.56657,     0.56757,     0.56857,     0.56957,     0.57057,     0.57157,     0.57257,     0.57357,     0.57457,     0.57558,\n",
              "           0.57658,     0.57758,     0.57858,     0.57958,     0.58058,     0.58158,     0.58258,     0.58358,     0.58458,     0.58559,     0.58659,     0.58759,     0.58859,     0.58959,     0.59059,     0.59159,     0.59259,     0.59359,     0.59459,      0.5956,      0.5966,      0.5976,      0.5986,      0.5996,\n",
              "            0.6006,      0.6016,      0.6026,      0.6036,      0.6046,     0.60561,     0.60661,     0.60761,     0.60861,     0.60961,     0.61061,     0.61161,     0.61261,     0.61361,     0.61461,     0.61562,     0.61662,     0.61762,     0.61862,     0.61962,     0.62062,     0.62162,     0.62262,     0.62362,\n",
              "           0.62462,     0.62563,     0.62663,     0.62763,     0.62863,     0.62963,     0.63063,     0.63163,     0.63263,     0.63363,     0.63463,     0.63564,     0.63664,     0.63764,     0.63864,     0.63964,     0.64064,     0.64164,     0.64264,     0.64364,     0.64464,     0.64565,     0.64665,     0.64765,\n",
              "           0.64865,     0.64965,     0.65065,     0.65165,     0.65265,     0.65365,     0.65465,     0.65566,     0.65666,     0.65766,     0.65866,     0.65966,     0.66066,     0.66166,     0.66266,     0.66366,     0.66466,     0.66567,     0.66667,     0.66767,     0.66867,     0.66967,     0.67067,     0.67167,\n",
              "           0.67267,     0.67367,     0.67467,     0.67568,     0.67668,     0.67768,     0.67868,     0.67968,     0.68068,     0.68168,     0.68268,     0.68368,     0.68468,     0.68569,     0.68669,     0.68769,     0.68869,     0.68969,     0.69069,     0.69169,     0.69269,     0.69369,     0.69469,      0.6957,\n",
              "            0.6967,      0.6977,      0.6987,      0.6997,      0.7007,      0.7017,      0.7027,      0.7037,      0.7047,     0.70571,     0.70671,     0.70771,     0.70871,     0.70971,     0.71071,     0.71171,     0.71271,     0.71371,     0.71471,     0.71572,     0.71672,     0.71772,     0.71872,     0.71972,\n",
              "           0.72072,     0.72172,     0.72272,     0.72372,     0.72472,     0.72573,     0.72673,     0.72773,     0.72873,     0.72973,     0.73073,     0.73173,     0.73273,     0.73373,     0.73473,     0.73574,     0.73674,     0.73774,     0.73874,     0.73974,     0.74074,     0.74174,     0.74274,     0.74374,\n",
              "           0.74474,     0.74575,     0.74675,     0.74775,     0.74875,     0.74975,     0.75075,     0.75175,     0.75275,     0.75375,     0.75475,     0.75576,     0.75676,     0.75776,     0.75876,     0.75976,     0.76076,     0.76176,     0.76276,     0.76376,     0.76476,     0.76577,     0.76677,     0.76777,\n",
              "           0.76877,     0.76977,     0.77077,     0.77177,     0.77277,     0.77377,     0.77477,     0.77578,     0.77678,     0.77778,     0.77878,     0.77978,     0.78078,     0.78178,     0.78278,     0.78378,     0.78478,     0.78579,     0.78679,     0.78779,     0.78879,     0.78979,     0.79079,     0.79179,\n",
              "           0.79279,     0.79379,     0.79479,      0.7958,      0.7968,      0.7978,      0.7988,      0.7998,      0.8008,      0.8018,      0.8028,      0.8038,      0.8048,     0.80581,     0.80681,     0.80781,     0.80881,     0.80981,     0.81081,     0.81181,     0.81281,     0.81381,     0.81481,     0.81582,\n",
              "           0.81682,     0.81782,     0.81882,     0.81982,     0.82082,     0.82182,     0.82282,     0.82382,     0.82482,     0.82583,     0.82683,     0.82783,     0.82883,     0.82983,     0.83083,     0.83183,     0.83283,     0.83383,     0.83483,     0.83584,     0.83684,     0.83784,     0.83884,     0.83984,\n",
              "           0.84084,     0.84184,     0.84284,     0.84384,     0.84484,     0.84585,     0.84685,     0.84785,     0.84885,     0.84985,     0.85085,     0.85185,     0.85285,     0.85385,     0.85485,     0.85586,     0.85686,     0.85786,     0.85886,     0.85986,     0.86086,     0.86186,     0.86286,     0.86386,\n",
              "           0.86486,     0.86587,     0.86687,     0.86787,     0.86887,     0.86987,     0.87087,     0.87187,     0.87287,     0.87387,     0.87487,     0.87588,     0.87688,     0.87788,     0.87888,     0.87988,     0.88088,     0.88188,     0.88288,     0.88388,     0.88488,     0.88589,     0.88689,     0.88789,\n",
              "           0.88889,     0.88989,     0.89089,     0.89189,     0.89289,     0.89389,     0.89489,      0.8959,      0.8969,      0.8979,      0.8989,      0.8999,      0.9009,      0.9019,      0.9029,      0.9039,      0.9049,     0.90591,     0.90691,     0.90791,     0.90891,     0.90991,     0.91091,     0.91191,\n",
              "           0.91291,     0.91391,     0.91491,     0.91592,     0.91692,     0.91792,     0.91892,     0.91992,     0.92092,     0.92192,     0.92292,     0.92392,     0.92492,     0.92593,     0.92693,     0.92793,     0.92893,     0.92993,     0.93093,     0.93193,     0.93293,     0.93393,     0.93493,     0.93594,\n",
              "           0.93694,     0.93794,     0.93894,     0.93994,     0.94094,     0.94194,     0.94294,     0.94394,     0.94494,     0.94595,     0.94695,     0.94795,     0.94895,     0.94995,     0.95095,     0.95195,     0.95295,     0.95395,     0.95495,     0.95596,     0.95696,     0.95796,     0.95896,     0.95996,\n",
              "           0.96096,     0.96196,     0.96296,     0.96396,     0.96496,     0.96597,     0.96697,     0.96797,     0.96897,     0.96997,     0.97097,     0.97197,     0.97297,     0.97397,     0.97497,     0.97598,     0.97698,     0.97798,     0.97898,     0.97998,     0.98098,     0.98198,     0.98298,     0.98398,\n",
              "           0.98498,     0.98599,     0.98699,     0.98799,     0.98899,     0.98999,     0.99099,     0.99199,     0.99299,     0.99399,     0.99499,       0.996,       0.997,       0.998,       0.999,           1]), array([[   0.022254,    0.022263,     0.03249,    0.043712,    0.055562,    0.070661,    0.090158,      0.1099,     0.13093,     0.15363,     0.17308,     0.19494,     0.21349,     0.22959,     0.24249,     0.25986,     0.27223,     0.28253,     0.29282,     0.30039,     0.30749,     0.31462,     0.32058,\n",
              "            0.32564,      0.3296,     0.33344,     0.34011,     0.35008,      0.3532,     0.35864,     0.36258,      0.3666,     0.37208,     0.37628,     0.38016,     0.38378,     0.38948,     0.39661,     0.40095,     0.40674,     0.40842,     0.41048,     0.41464,     0.41761,     0.42099,      0.4232,\n",
              "            0.42451,     0.42919,     0.43069,      0.4309,     0.43128,     0.43219,     0.43337,     0.43538,     0.43732,     0.43981,     0.43969,     0.44132,     0.44384,     0.44532,     0.44838,     0.45129,     0.45408,      0.4547,     0.45617,     0.45653,     0.45806,     0.45791,     0.45829,\n",
              "            0.46143,     0.46454,     0.46634,     0.46806,     0.46846,     0.47028,     0.47051,     0.47025,     0.47207,     0.47391,     0.47491,     0.47625,     0.47667,     0.47811,     0.47993,     0.48056,     0.48104,     0.47969,     0.47995,     0.48051,     0.48327,      0.4848,     0.48524,\n",
              "            0.48774,     0.48807,     0.48702,     0.48779,     0.49062,     0.49043,     0.49129,      0.4903,     0.49167,     0.49278,     0.49391,     0.49488,     0.49601,     0.49653,     0.49719,      0.4984,     0.49897,     0.49989,     0.50092,     0.50204,     0.50226,     0.50249,     0.50147,\n",
              "            0.50286,     0.50371,     0.50362,     0.50404,     0.50464,     0.50542,     0.50579,     0.50754,     0.50686,     0.50677,     0.50628,       0.506,     0.50774,     0.51138,     0.51236,     0.51431,     0.51568,     0.51501,      0.5156,     0.51607,     0.51622,     0.51686,     0.51826,\n",
              "            0.51898,     0.52052,      0.5216,      0.5219,     0.52258,     0.52505,     0.52642,     0.52562,     0.52488,     0.52617,     0.52681,      0.5273,     0.52844,     0.52881,     0.52968,     0.53013,     0.53062,     0.53146,      0.5318,     0.53171,     0.53097,     0.53024,     0.53077,\n",
              "            0.53297,     0.53348,     0.53424,     0.53421,     0.53335,     0.53381,     0.53514,     0.53434,     0.53355,      0.5342,      0.5345,     0.53481,     0.53499,     0.53513,     0.53527,      0.5354,     0.53554,     0.53369,     0.52947,     0.53099,     0.53126,     0.53153,      0.5318,\n",
              "            0.53071,     0.53147,     0.53238,     0.53203,     0.53139,     0.53075,     0.53122,     0.53153,     0.53185,     0.53277,      0.5329,     0.53304,     0.53318,     0.53332,     0.53345,     0.53477,     0.53765,     0.53817,     0.53851,     0.53875,     0.53899,     0.53891,     0.53816,\n",
              "            0.53741,     0.53715,     0.53766,     0.53888,     0.53893,     0.53801,      0.5372,     0.53741,     0.53762,     0.53784,     0.53887,     0.53949,     0.53772,     0.53872,     0.53924,     0.53954,     0.53984,     0.54028,     0.54043,     0.53852,     0.53862,     0.53872,     0.53882,\n",
              "            0.53892,     0.53902,     0.53912,     0.53922,     0.53939,     0.53973,     0.54007,      0.5406,     0.54346,     0.54382,     0.54417,     0.54549,     0.54688,     0.54705,     0.54721,     0.54738,     0.54754,     0.54771,     0.54955,      0.5504,     0.55089,     0.55138,     0.55189,\n",
              "            0.55338,     0.55395,     0.55423,     0.55452,     0.55585,     0.55648,     0.55687,     0.55726,       0.557,     0.55662,     0.55624,     0.55585,     0.55547,     0.55509,     0.55525,     0.55552,     0.55579,     0.55736,     0.55868,     0.55903,     0.55939,     0.55888,     0.55804,\n",
              "            0.55721,     0.55862,     0.55768,     0.55675,     0.55469,     0.55536,     0.55592,     0.55356,     0.55301,     0.55247,     0.55192,     0.55143,     0.55189,     0.55109,      0.5503,     0.55015,     0.55061,     0.55141,      0.5505,     0.54959,     0.54942,     0.54952,     0.54963,\n",
              "            0.54973,     0.54984,     0.54994,     0.55005,     0.55015,     0.55006,     0.54789,     0.54821,     0.54854,     0.54664,     0.54556,     0.54473,     0.54385,     0.54199,     0.54123,     0.54083,     0.54042,     0.54002,     0.53962,     0.53922,     0.53922,     0.53939,     0.53955,\n",
              "            0.53972,     0.53989,     0.54027,     0.54072,     0.53989,     0.53906,     0.53884,     0.53707,     0.53768,     0.53807,     0.53839,     0.53871,     0.53623,     0.53566,     0.53509,     0.53453,     0.53396,     0.53396,      0.5342,     0.53445,     0.53472,      0.5355,     0.53703,\n",
              "            0.53822,     0.53948,     0.54005,      0.5377,     0.53796,     0.53821,     0.53846,     0.53946,     0.53893,      0.5384,     0.53787,     0.53734,     0.53601,     0.53388,     0.53254,     0.53201,     0.53212,     0.53224,     0.53235,     0.53246,     0.53257,     0.53268,     0.53279,\n",
              "            0.53295,      0.5333,     0.53365,     0.53205,     0.53041,     0.52928,     0.52911,     0.52699,     0.52668,     0.52636,     0.52605,     0.52574,     0.52542,     0.52511,      0.5248,     0.52449,     0.52445,       0.523,     0.52195,      0.5214,     0.52178,      0.5223,     0.52303,\n",
              "            0.52331,     0.52358,     0.52385,     0.52429,     0.52476,     0.52584,     0.52679,     0.52696,     0.52713,      0.5273,     0.52748,     0.52862,     0.52932,     0.52834,      0.5268,      0.5261,      0.5254,      0.5247,     0.52398,     0.52322,     0.52246,     0.52171,     0.52253,\n",
              "            0.52264,     0.52275,     0.52286,     0.52297,     0.52307,     0.52318,     0.52329,      0.5234,     0.52368,     0.52426,     0.52478,     0.52528,     0.52496,     0.52448,       0.524,     0.52351,     0.52303,     0.52285,     0.52342,     0.52316,     0.52239,     0.52162,     0.52147,\n",
              "            0.52122,     0.52046,     0.51971,      0.5193,     0.51961,     0.51991,     0.52011,     0.51994,     0.51977,      0.5196,     0.51943,     0.51926,     0.51909,     0.51892,     0.51874,     0.51857,      0.5184,     0.51823,     0.51806,     0.51789,     0.51772,     0.51755,     0.51818,\n",
              "            0.51677,     0.51471,     0.51267,     0.51227,     0.51186,     0.51145,     0.51105,     0.51064,     0.51023,     0.51048,     0.51086,     0.51114,     0.51123,     0.51133,     0.51142,     0.51151,      0.5116,     0.51169,     0.51179,     0.51188,     0.51197,     0.51205,     0.51162,\n",
              "             0.5112,     0.51077,     0.51034,     0.50992,     0.50949,     0.50885,     0.50804,     0.50722,     0.50635,      0.5051,     0.50386,     0.50425,     0.50542,     0.50576,     0.50591,     0.50605,      0.5062,     0.50635,      0.5065,     0.50699,     0.50734,     0.50675,     0.50616,\n",
              "            0.50557,     0.50498,     0.50363,     0.50199,     0.50281,       0.501,     0.49972,     0.49911,     0.49851,     0.49791,      0.4973,     0.49589,     0.49426,     0.49355,     0.49285,     0.49214,     0.49143,     0.49216,     0.49153,     0.49089,     0.49026,     0.48962,     0.48835,\n",
              "            0.48689,     0.48579,     0.48479,     0.48378,     0.48247,     0.48112,     0.48179,     0.48206,     0.48233,      0.4826,     0.48316,     0.48337,     0.48279,     0.48222,     0.48164,     0.48106,     0.48033,     0.47909,     0.47785,      0.4761,      0.4748,     0.47518,     0.47556,\n",
              "            0.47606,     0.47655,     0.47586,     0.47516,     0.47447,     0.47377,     0.47408,     0.47409,      0.4729,     0.47172,     0.46869,     0.46827,     0.46802,     0.46777,     0.46752,     0.46727,     0.46702,     0.46677,     0.46652,     0.46627,     0.46602,     0.46576,     0.46551,\n",
              "            0.46296,     0.45959,     0.45976,     0.46013,     0.46087,     0.46004,     0.45829,     0.45736,      0.4565,     0.45563,     0.45481,     0.45406,      0.4533,     0.45255,     0.45204,     0.45217,     0.45231,     0.45244,     0.45258,     0.45271,     0.45285,     0.45314,     0.45354,\n",
              "            0.45369,     0.45329,     0.45289,     0.45249,     0.45209,     0.45169,     0.45128,     0.45088,     0.45079,     0.45095,     0.45111,     0.45127,     0.45142,     0.45158,     0.44969,     0.44783,     0.44653,     0.44536,     0.44556,     0.44577,     0.44597,     0.44617,      0.4464,\n",
              "            0.44664,     0.44688,     0.44712,     0.44761,     0.44816,     0.44898,     0.44932,     0.44967,     0.44962,     0.44875,     0.44789,     0.44702,     0.44679,     0.44549,     0.44427,     0.44336,     0.44245,     0.44154,      0.4417,     0.44231,     0.44277,     0.44237,     0.44036,\n",
              "            0.43632,     0.43588,     0.43544,       0.435,     0.43456,     0.43412,     0.43368,     0.43301,     0.43151,     0.43004,     0.42929,     0.42854,      0.4278,     0.42705,     0.42587,     0.42446,     0.42305,     0.42165,     0.42025,     0.41963,     0.41906,     0.41849,     0.41792,\n",
              "            0.41735,     0.41682,     0.41662,     0.41641,     0.41621,       0.416,      0.4158,     0.41559,     0.41539,     0.41518,     0.41498,     0.41477,     0.41457,     0.41436,     0.41416,     0.41395,     0.41375,     0.41354,     0.41256,     0.41139,     0.41022,     0.41059,     0.41063,\n",
              "            0.40736,     0.40668,       0.406,     0.40532,     0.40464,     0.39867,     0.39553,     0.39414,     0.39457,     0.39403,     0.39169,     0.38429,     0.37704,     0.37556,     0.37406,     0.37135,     0.36979,      0.3689,     0.36802,     0.36713,     0.36501,     0.36279,      0.3616,\n",
              "            0.36041,     0.35926,     0.35819,     0.35712,     0.35604,     0.35623,     0.35642,      0.3566,     0.35678,     0.35728,     0.35712,     0.35598,     0.35483,     0.35381,     0.35314,     0.35247,      0.3518,     0.35113,     0.35047,     0.34896,     0.34725,     0.34304,      0.3432,\n",
              "            0.34337,     0.34354,     0.34371,     0.34406,     0.34447,     0.34378,     0.34293,     0.34207,     0.34122,     0.34055,     0.34006,     0.33956,     0.33907,     0.33857,     0.33807,     0.33758,     0.33708,     0.32947,      0.3288,     0.32813,     0.32747,      0.3268,     0.32613,\n",
              "            0.32544,     0.32472,       0.324,     0.32328,     0.32256,     0.32204,     0.32223,     0.32242,     0.32261,     0.32256,     0.32209,     0.32162,     0.32115,     0.32068,     0.32022,     0.31975,     0.31928,     0.31501,     0.31268,     0.31057,     0.30884,      0.3068,     0.30289,\n",
              "            0.29945,     0.29785,     0.29624,      0.2908,     0.28909,     0.28394,     0.27666,     0.27602,     0.27177,     0.26712,     0.25988,     0.25879,      0.2577,      0.2566,     0.25547,     0.25425,     0.25304,     0.25182,     0.25194,      0.2521,     0.25226,     0.24823,     0.24846,\n",
              "            0.24868,     0.24756,     0.24465,     0.24334,     0.24205,     0.24076,     0.23868,     0.23627,     0.23491,      0.2336,     0.23229,     0.22948,     0.22625,      0.2233,     0.21547,     0.21067,     0.21056,     0.21007,     0.20736,     0.20537,     0.20379,     0.20221,     0.20092,\n",
              "            0.19968,     0.19843,     0.19693,     0.19477,     0.19283,     0.19174,     0.19065,     0.18956,     0.18401,     0.18325,     0.18249,     0.18173,     0.18097,      0.1802,     0.17768,     0.17292,     0.17011,     0.16516,       0.162,     0.15668,     0.15177,      0.1505,     0.14923,\n",
              "            0.14796,      0.1466,     0.14511,     0.14362,     0.14196,     0.13981,      0.1377,     0.13655,     0.13541,     0.13425,      0.1331,     0.12698,     0.12559,      0.1242,      0.1183,     0.10249,    0.099524,    0.094413,    0.092911,    0.091738,    0.090564,    0.089389,    0.087523,\n",
              "            0.08532,    0.082065,     0.07896,    0.078994,    0.079027,     0.07906,    0.079092,    0.079124,    0.079155,    0.077741,    0.076282,     0.07482,    0.073614,    0.072676,    0.071736,    0.070796,    0.069855,    0.068831,    0.066432,    0.064026,    0.063507,    0.063156,    0.062804,\n",
              "           0.062453,    0.062101,    0.061749,    0.061397,    0.061045,    0.060693,     0.06034,    0.059988,    0.059635,    0.059282,     0.05893,    0.058199,    0.056367,    0.054531,    0.053159,    0.052415,    0.051671,    0.050926,    0.050181,    0.049435,    0.048688,    0.042731,    0.041403,\n",
              "           0.040072,     0.03874,    0.037302,    0.035545,    0.033785,    0.030812,    0.026832,    0.026259,    0.025685,    0.025112,    0.024538,    0.023963,    0.023389,    0.022814,    0.022238,    0.021669,    0.021139,    0.020609,    0.020079,    0.019549,    0.019018,    0.018487,    0.017956,\n",
              "           0.017424,    0.016892,     0.01636,    0.010671,    0.010386,      0.0101,   0.0098152,   0.0095298,   0.0092443,   0.0089588,   0.0086731,   0.0083874,   0.0081016,   0.0078157,   0.0075297,   0.0072437,   0.0069575,   0.0066713,    0.006385,   0.0060987,   0.0058122,   0.0055257,           0,\n",
              "                  0,           0,           0,           0,           0,           0,           0,           0,           0,           0,           0,           0,           0,           0,           0,           0,           0,           0,           0,           0,           0,           0,           0,\n",
              "                  0,           0,           0,           0,           0,           0,           0,           0,           0,           0,           0]]), 'Confidence', 'F1'], [array([          0,    0.001001,    0.002002,    0.003003,    0.004004,    0.005005,    0.006006,    0.007007,    0.008008,    0.009009,     0.01001,    0.011011,    0.012012,    0.013013,    0.014014,    0.015015,    0.016016,    0.017017,    0.018018,    0.019019,     0.02002,    0.021021,    0.022022,    0.023023,\n",
              "          0.024024,    0.025025,    0.026026,    0.027027,    0.028028,    0.029029,     0.03003,    0.031031,    0.032032,    0.033033,    0.034034,    0.035035,    0.036036,    0.037037,    0.038038,    0.039039,     0.04004,    0.041041,    0.042042,    0.043043,    0.044044,    0.045045,    0.046046,    0.047047,\n",
              "          0.048048,    0.049049,     0.05005,    0.051051,    0.052052,    0.053053,    0.054054,    0.055055,    0.056056,    0.057057,    0.058058,    0.059059,     0.06006,    0.061061,    0.062062,    0.063063,    0.064064,    0.065065,    0.066066,    0.067067,    0.068068,    0.069069,     0.07007,    0.071071,\n",
              "          0.072072,    0.073073,    0.074074,    0.075075,    0.076076,    0.077077,    0.078078,    0.079079,     0.08008,    0.081081,    0.082082,    0.083083,    0.084084,    0.085085,    0.086086,    0.087087,    0.088088,    0.089089,     0.09009,    0.091091,    0.092092,    0.093093,    0.094094,    0.095095,\n",
              "          0.096096,    0.097097,    0.098098,    0.099099,      0.1001,      0.1011,      0.1021,      0.1031,      0.1041,     0.10511,     0.10611,     0.10711,     0.10811,     0.10911,     0.11011,     0.11111,     0.11211,     0.11311,     0.11411,     0.11512,     0.11612,     0.11712,     0.11812,     0.11912,\n",
              "           0.12012,     0.12112,     0.12212,     0.12312,     0.12412,     0.12513,     0.12613,     0.12713,     0.12813,     0.12913,     0.13013,     0.13113,     0.13213,     0.13313,     0.13413,     0.13514,     0.13614,     0.13714,     0.13814,     0.13914,     0.14014,     0.14114,     0.14214,     0.14314,\n",
              "           0.14414,     0.14515,     0.14615,     0.14715,     0.14815,     0.14915,     0.15015,     0.15115,     0.15215,     0.15315,     0.15415,     0.15516,     0.15616,     0.15716,     0.15816,     0.15916,     0.16016,     0.16116,     0.16216,     0.16316,     0.16416,     0.16517,     0.16617,     0.16717,\n",
              "           0.16817,     0.16917,     0.17017,     0.17117,     0.17217,     0.17317,     0.17417,     0.17518,     0.17618,     0.17718,     0.17818,     0.17918,     0.18018,     0.18118,     0.18218,     0.18318,     0.18418,     0.18519,     0.18619,     0.18719,     0.18819,     0.18919,     0.19019,     0.19119,\n",
              "           0.19219,     0.19319,     0.19419,      0.1952,      0.1962,      0.1972,      0.1982,      0.1992,      0.2002,      0.2012,      0.2022,      0.2032,      0.2042,     0.20521,     0.20621,     0.20721,     0.20821,     0.20921,     0.21021,     0.21121,     0.21221,     0.21321,     0.21421,     0.21522,\n",
              "           0.21622,     0.21722,     0.21822,     0.21922,     0.22022,     0.22122,     0.22222,     0.22322,     0.22422,     0.22523,     0.22623,     0.22723,     0.22823,     0.22923,     0.23023,     0.23123,     0.23223,     0.23323,     0.23423,     0.23524,     0.23624,     0.23724,     0.23824,     0.23924,\n",
              "           0.24024,     0.24124,     0.24224,     0.24324,     0.24424,     0.24525,     0.24625,     0.24725,     0.24825,     0.24925,     0.25025,     0.25125,     0.25225,     0.25325,     0.25425,     0.25526,     0.25626,     0.25726,     0.25826,     0.25926,     0.26026,     0.26126,     0.26226,     0.26326,\n",
              "           0.26426,     0.26527,     0.26627,     0.26727,     0.26827,     0.26927,     0.27027,     0.27127,     0.27227,     0.27327,     0.27427,     0.27528,     0.27628,     0.27728,     0.27828,     0.27928,     0.28028,     0.28128,     0.28228,     0.28328,     0.28428,     0.28529,     0.28629,     0.28729,\n",
              "           0.28829,     0.28929,     0.29029,     0.29129,     0.29229,     0.29329,     0.29429,      0.2953,      0.2963,      0.2973,      0.2983,      0.2993,      0.3003,      0.3013,      0.3023,      0.3033,      0.3043,     0.30531,     0.30631,     0.30731,     0.30831,     0.30931,     0.31031,     0.31131,\n",
              "           0.31231,     0.31331,     0.31431,     0.31532,     0.31632,     0.31732,     0.31832,     0.31932,     0.32032,     0.32132,     0.32232,     0.32332,     0.32432,     0.32533,     0.32633,     0.32733,     0.32833,     0.32933,     0.33033,     0.33133,     0.33233,     0.33333,     0.33433,     0.33534,\n",
              "           0.33634,     0.33734,     0.33834,     0.33934,     0.34034,     0.34134,     0.34234,     0.34334,     0.34434,     0.34535,     0.34635,     0.34735,     0.34835,     0.34935,     0.35035,     0.35135,     0.35235,     0.35335,     0.35435,     0.35536,     0.35636,     0.35736,     0.35836,     0.35936,\n",
              "           0.36036,     0.36136,     0.36236,     0.36336,     0.36436,     0.36537,     0.36637,     0.36737,     0.36837,     0.36937,     0.37037,     0.37137,     0.37237,     0.37337,     0.37437,     0.37538,     0.37638,     0.37738,     0.37838,     0.37938,     0.38038,     0.38138,     0.38238,     0.38338,\n",
              "           0.38438,     0.38539,     0.38639,     0.38739,     0.38839,     0.38939,     0.39039,     0.39139,     0.39239,     0.39339,     0.39439,      0.3954,      0.3964,      0.3974,      0.3984,      0.3994,      0.4004,      0.4014,      0.4024,      0.4034,      0.4044,     0.40541,     0.40641,     0.40741,\n",
              "           0.40841,     0.40941,     0.41041,     0.41141,     0.41241,     0.41341,     0.41441,     0.41542,     0.41642,     0.41742,     0.41842,     0.41942,     0.42042,     0.42142,     0.42242,     0.42342,     0.42442,     0.42543,     0.42643,     0.42743,     0.42843,     0.42943,     0.43043,     0.43143,\n",
              "           0.43243,     0.43343,     0.43443,     0.43544,     0.43644,     0.43744,     0.43844,     0.43944,     0.44044,     0.44144,     0.44244,     0.44344,     0.44444,     0.44545,     0.44645,     0.44745,     0.44845,     0.44945,     0.45045,     0.45145,     0.45245,     0.45345,     0.45445,     0.45546,\n",
              "           0.45646,     0.45746,     0.45846,     0.45946,     0.46046,     0.46146,     0.46246,     0.46346,     0.46446,     0.46547,     0.46647,     0.46747,     0.46847,     0.46947,     0.47047,     0.47147,     0.47247,     0.47347,     0.47447,     0.47548,     0.47648,     0.47748,     0.47848,     0.47948,\n",
              "           0.48048,     0.48148,     0.48248,     0.48348,     0.48448,     0.48549,     0.48649,     0.48749,     0.48849,     0.48949,     0.49049,     0.49149,     0.49249,     0.49349,     0.49449,      0.4955,      0.4965,      0.4975,      0.4985,      0.4995,      0.5005,      0.5015,      0.5025,      0.5035,\n",
              "            0.5045,     0.50551,     0.50651,     0.50751,     0.50851,     0.50951,     0.51051,     0.51151,     0.51251,     0.51351,     0.51451,     0.51552,     0.51652,     0.51752,     0.51852,     0.51952,     0.52052,     0.52152,     0.52252,     0.52352,     0.52452,     0.52553,     0.52653,     0.52753,\n",
              "           0.52853,     0.52953,     0.53053,     0.53153,     0.53253,     0.53353,     0.53453,     0.53554,     0.53654,     0.53754,     0.53854,     0.53954,     0.54054,     0.54154,     0.54254,     0.54354,     0.54454,     0.54555,     0.54655,     0.54755,     0.54855,     0.54955,     0.55055,     0.55155,\n",
              "           0.55255,     0.55355,     0.55455,     0.55556,     0.55656,     0.55756,     0.55856,     0.55956,     0.56056,     0.56156,     0.56256,     0.56356,     0.56456,     0.56557,     0.56657,     0.56757,     0.56857,     0.56957,     0.57057,     0.57157,     0.57257,     0.57357,     0.57457,     0.57558,\n",
              "           0.57658,     0.57758,     0.57858,     0.57958,     0.58058,     0.58158,     0.58258,     0.58358,     0.58458,     0.58559,     0.58659,     0.58759,     0.58859,     0.58959,     0.59059,     0.59159,     0.59259,     0.59359,     0.59459,      0.5956,      0.5966,      0.5976,      0.5986,      0.5996,\n",
              "            0.6006,      0.6016,      0.6026,      0.6036,      0.6046,     0.60561,     0.60661,     0.60761,     0.60861,     0.60961,     0.61061,     0.61161,     0.61261,     0.61361,     0.61461,     0.61562,     0.61662,     0.61762,     0.61862,     0.61962,     0.62062,     0.62162,     0.62262,     0.62362,\n",
              "           0.62462,     0.62563,     0.62663,     0.62763,     0.62863,     0.62963,     0.63063,     0.63163,     0.63263,     0.63363,     0.63463,     0.63564,     0.63664,     0.63764,     0.63864,     0.63964,     0.64064,     0.64164,     0.64264,     0.64364,     0.64464,     0.64565,     0.64665,     0.64765,\n",
              "           0.64865,     0.64965,     0.65065,     0.65165,     0.65265,     0.65365,     0.65465,     0.65566,     0.65666,     0.65766,     0.65866,     0.65966,     0.66066,     0.66166,     0.66266,     0.66366,     0.66466,     0.66567,     0.66667,     0.66767,     0.66867,     0.66967,     0.67067,     0.67167,\n",
              "           0.67267,     0.67367,     0.67467,     0.67568,     0.67668,     0.67768,     0.67868,     0.67968,     0.68068,     0.68168,     0.68268,     0.68368,     0.68468,     0.68569,     0.68669,     0.68769,     0.68869,     0.68969,     0.69069,     0.69169,     0.69269,     0.69369,     0.69469,      0.6957,\n",
              "            0.6967,      0.6977,      0.6987,      0.6997,      0.7007,      0.7017,      0.7027,      0.7037,      0.7047,     0.70571,     0.70671,     0.70771,     0.70871,     0.70971,     0.71071,     0.71171,     0.71271,     0.71371,     0.71471,     0.71572,     0.71672,     0.71772,     0.71872,     0.71972,\n",
              "           0.72072,     0.72172,     0.72272,     0.72372,     0.72472,     0.72573,     0.72673,     0.72773,     0.72873,     0.72973,     0.73073,     0.73173,     0.73273,     0.73373,     0.73473,     0.73574,     0.73674,     0.73774,     0.73874,     0.73974,     0.74074,     0.74174,     0.74274,     0.74374,\n",
              "           0.74474,     0.74575,     0.74675,     0.74775,     0.74875,     0.74975,     0.75075,     0.75175,     0.75275,     0.75375,     0.75475,     0.75576,     0.75676,     0.75776,     0.75876,     0.75976,     0.76076,     0.76176,     0.76276,     0.76376,     0.76476,     0.76577,     0.76677,     0.76777,\n",
              "           0.76877,     0.76977,     0.77077,     0.77177,     0.77277,     0.77377,     0.77477,     0.77578,     0.77678,     0.77778,     0.77878,     0.77978,     0.78078,     0.78178,     0.78278,     0.78378,     0.78478,     0.78579,     0.78679,     0.78779,     0.78879,     0.78979,     0.79079,     0.79179,\n",
              "           0.79279,     0.79379,     0.79479,      0.7958,      0.7968,      0.7978,      0.7988,      0.7998,      0.8008,      0.8018,      0.8028,      0.8038,      0.8048,     0.80581,     0.80681,     0.80781,     0.80881,     0.80981,     0.81081,     0.81181,     0.81281,     0.81381,     0.81481,     0.81582,\n",
              "           0.81682,     0.81782,     0.81882,     0.81982,     0.82082,     0.82182,     0.82282,     0.82382,     0.82482,     0.82583,     0.82683,     0.82783,     0.82883,     0.82983,     0.83083,     0.83183,     0.83283,     0.83383,     0.83483,     0.83584,     0.83684,     0.83784,     0.83884,     0.83984,\n",
              "           0.84084,     0.84184,     0.84284,     0.84384,     0.84484,     0.84585,     0.84685,     0.84785,     0.84885,     0.84985,     0.85085,     0.85185,     0.85285,     0.85385,     0.85485,     0.85586,     0.85686,     0.85786,     0.85886,     0.85986,     0.86086,     0.86186,     0.86286,     0.86386,\n",
              "           0.86486,     0.86587,     0.86687,     0.86787,     0.86887,     0.86987,     0.87087,     0.87187,     0.87287,     0.87387,     0.87487,     0.87588,     0.87688,     0.87788,     0.87888,     0.87988,     0.88088,     0.88188,     0.88288,     0.88388,     0.88488,     0.88589,     0.88689,     0.88789,\n",
              "           0.88889,     0.88989,     0.89089,     0.89189,     0.89289,     0.89389,     0.89489,      0.8959,      0.8969,      0.8979,      0.8989,      0.8999,      0.9009,      0.9019,      0.9029,      0.9039,      0.9049,     0.90591,     0.90691,     0.90791,     0.90891,     0.90991,     0.91091,     0.91191,\n",
              "           0.91291,     0.91391,     0.91491,     0.91592,     0.91692,     0.91792,     0.91892,     0.91992,     0.92092,     0.92192,     0.92292,     0.92392,     0.92492,     0.92593,     0.92693,     0.92793,     0.92893,     0.92993,     0.93093,     0.93193,     0.93293,     0.93393,     0.93493,     0.93594,\n",
              "           0.93694,     0.93794,     0.93894,     0.93994,     0.94094,     0.94194,     0.94294,     0.94394,     0.94494,     0.94595,     0.94695,     0.94795,     0.94895,     0.94995,     0.95095,     0.95195,     0.95295,     0.95395,     0.95495,     0.95596,     0.95696,     0.95796,     0.95896,     0.95996,\n",
              "           0.96096,     0.96196,     0.96296,     0.96396,     0.96496,     0.96597,     0.96697,     0.96797,     0.96897,     0.96997,     0.97097,     0.97197,     0.97297,     0.97397,     0.97497,     0.97598,     0.97698,     0.97798,     0.97898,     0.97998,     0.98098,     0.98198,     0.98298,     0.98398,\n",
              "           0.98498,     0.98599,     0.98699,     0.98799,     0.98899,     0.98999,     0.99099,     0.99199,     0.99299,     0.99399,     0.99499,       0.996,       0.997,       0.998,       0.999,           1]), array([[   0.011286,    0.011291,    0.016601,    0.022517,    0.028883,    0.037184,    0.048192,    0.059814,    0.072647,    0.087092,     0.10007,     0.11507,     0.12845,     0.14042,     0.15051,     0.16413,     0.17412,     0.18288,     0.19159,      0.1984,     0.20495,     0.21198,     0.21814,\n",
              "            0.22323,     0.22777,     0.23186,     0.23836,     0.24827,     0.25219,     0.25802,     0.26212,     0.26691,     0.27336,     0.27792,     0.28217,     0.28618,     0.29256,     0.30106,     0.30646,     0.31328,      0.3161,     0.32027,     0.32537,     0.32904,     0.33326,     0.33604,\n",
              "            0.33768,     0.34364,     0.34558,     0.34686,     0.34838,     0.35063,     0.35219,     0.35485,     0.35744,     0.36077,     0.36175,     0.36397,     0.36741,     0.36943,     0.37367,     0.37773,     0.38165,     0.38253,     0.38461,     0.38617,     0.38864,     0.38946,     0.39168,\n",
              "            0.39629,      0.4009,     0.40359,     0.40617,     0.40678,     0.40952,     0.41053,       0.411,      0.4138,     0.41662,     0.41817,     0.42026,     0.42092,     0.42317,     0.42603,     0.42703,     0.42806,     0.42731,     0.42942,     0.43032,     0.43477,     0.43725,     0.43796,\n",
              "            0.44206,      0.4426,      0.4427,     0.44397,     0.44868,     0.45027,     0.45172,     0.45198,     0.45433,     0.45621,     0.45816,     0.45983,     0.46178,     0.46269,     0.46383,     0.46595,     0.46695,     0.46856,     0.47036,     0.47234,     0.47275,     0.47315,      0.4735,\n",
              "            0.47597,     0.47921,     0.47956,     0.48032,     0.48141,     0.48283,     0.48352,     0.48672,     0.48669,     0.48763,      0.4879,     0.48857,     0.49181,      0.4987,     0.50056,      0.5043,     0.50693,     0.50822,     0.50937,     0.51028,     0.51325,     0.51451,      0.5173,\n",
              "            0.51873,     0.52181,     0.52399,     0.52459,     0.52598,     0.53101,     0.53381,     0.53508,     0.53651,     0.53921,     0.54057,     0.54161,     0.54402,     0.54479,     0.54665,      0.5476,     0.54865,     0.55045,     0.55118,     0.55144,     0.55097,      0.5505,     0.55214,\n",
              "            0.55693,     0.55805,      0.5597,     0.56128,     0.56106,     0.56209,     0.56555,     0.56505,     0.56455,     0.56636,     0.56705,     0.56774,     0.56814,     0.56845,     0.56876,     0.56908,     0.56939,     0.56842,     0.56577,     0.56964,     0.57026,     0.57088,     0.57243,\n",
              "            0.57175,      0.5744,     0.57654,      0.5766,      0.5762,      0.5758,     0.57756,      0.5783,     0.57905,     0.58123,     0.58156,     0.58189,     0.58222,     0.58255,     0.58288,     0.58603,     0.59299,     0.59426,     0.59508,     0.59567,     0.59627,     0.59652,     0.59606,\n",
              "             0.5956,     0.59581,     0.59707,     0.60007,     0.60107,     0.60051,     0.60005,     0.60058,     0.60112,     0.60165,     0.60423,     0.60608,      0.6056,     0.60816,     0.60949,     0.61025,     0.61101,     0.61213,     0.61307,     0.61205,      0.6123,     0.61256,     0.61282,\n",
              "            0.61308,     0.61333,     0.61359,     0.61385,     0.61428,     0.61517,     0.61605,     0.61745,     0.62495,     0.62591,     0.62683,     0.63034,     0.63408,     0.63452,     0.63497,     0.63541,     0.63586,      0.6363,     0.64129,     0.64363,     0.64496,     0.64631,     0.64772,\n",
              "            0.65183,      0.6534,      0.6542,       0.655,     0.65872,     0.66049,      0.6616,      0.6627,      0.6627,     0.66249,     0.66227,     0.66206,     0.66185,     0.66163,     0.66224,     0.66301,     0.66378,     0.66828,     0.67208,     0.67311,     0.67414,     0.67409,     0.67363,\n",
              "            0.67318,     0.67824,     0.67774,     0.67723,     0.67611,     0.67906,     0.68073,      0.6799,      0.6796,      0.6793,     0.67901,     0.67885,     0.68123,      0.6808,     0.68037,     0.68088,     0.68227,     0.68554,     0.68505,     0.68456,     0.68466,     0.68499,     0.68532,\n",
              "            0.68564,     0.68597,     0.68629,     0.68662,     0.68694,     0.68714,     0.68606,     0.68708,      0.6881,     0.68765,     0.68707,     0.68662,     0.68614,     0.68513,     0.68471,     0.68449,     0.68427,     0.68405,     0.68383,     0.68361,     0.68393,     0.68447,       0.685,\n",
              "            0.68554,     0.68608,     0.68731,     0.68926,     0.68881,     0.68836,     0.68926,     0.69017,      0.6922,     0.69348,     0.69455,     0.69562,     0.69431,       0.694,     0.69369,     0.69338,     0.69308,     0.69356,      0.6944,     0.69524,     0.69616,     0.69878,     0.70404,\n",
              "            0.70815,     0.71252,     0.71452,     0.71375,     0.71464,     0.71554,     0.71643,     0.72015,     0.71988,     0.71961,     0.71934,     0.71907,     0.71838,     0.71728,     0.71658,     0.71651,     0.71691,     0.71731,     0.71771,     0.71811,     0.71851,     0.71891,     0.71931,\n",
              "             0.7199,     0.72118,     0.72246,     0.72211,     0.72127,     0.72068,     0.72192,     0.72246,     0.72229,     0.72213,     0.72197,     0.72181,     0.72165,     0.72148,     0.72132,     0.72116,     0.72415,     0.72402,     0.72592,     0.72654,     0.72801,     0.73006,     0.73293,\n",
              "              0.734,     0.73507,     0.73614,     0.73789,     0.73977,     0.74405,     0.74787,     0.74857,     0.74926,     0.74995,     0.75065,     0.75531,     0.75815,     0.75842,     0.75769,     0.75736,     0.75703,      0.7567,     0.75635,     0.75599,     0.75563,     0.75527,     0.75921,\n",
              "            0.75967,     0.76012,     0.76058,     0.76104,      0.7615,     0.76196,     0.76241,     0.76287,     0.76408,     0.76653,     0.76876,     0.77091,     0.77109,     0.77087,     0.77065,     0.77043,     0.77021,     0.77077,     0.77325,     0.77398,     0.77363,     0.77328,     0.77529,\n",
              "            0.77687,     0.77653,     0.77619,     0.77641,     0.77779,     0.77917,      0.7802,     0.78013,     0.78005,     0.77997,      0.7799,     0.77982,     0.77974,     0.77967,     0.77959,     0.77952,     0.77944,     0.77936,     0.77929,     0.77921,     0.77914,     0.77906,     0.78324,\n",
              "            0.78262,      0.7817,     0.78079,     0.78061,     0.78042,     0.78024,     0.78006,     0.77987,     0.77969,     0.78114,      0.7829,     0.78423,     0.78467,      0.7851,     0.78554,     0.78597,     0.78641,     0.78684,     0.78728,     0.78771,     0.78815,     0.78857,     0.78838,\n",
              "            0.78819,       0.788,     0.78782,     0.78763,     0.78744,     0.78716,      0.7868,     0.78644,     0.78605,      0.7855,     0.78494,     0.78739,     0.79315,      0.7948,     0.79554,     0.79628,     0.79701,     0.79775,     0.79849,     0.80092,      0.8035,     0.80325,       0.803,\n",
              "            0.80276,     0.80251,     0.80194,     0.80175,     0.80594,      0.8053,     0.80476,     0.80451,     0.80425,       0.804,     0.80374,     0.80314,     0.80245,     0.80215,     0.80185,     0.80155,     0.80124,     0.80616,     0.80589,     0.80563,     0.80536,     0.80509,     0.80455,\n",
              "            0.80393,     0.80345,     0.80302,     0.80259,     0.80202,     0.80143,     0.80696,     0.80849,     0.81002,     0.81155,     0.81474,     0.81692,     0.81668,     0.81644,     0.81621,     0.81597,     0.81567,     0.81516,     0.81465,     0.81391,     0.81389,     0.81614,     0.81838,\n",
              "             0.8213,     0.82432,     0.82404,     0.82376,     0.82348,     0.82321,     0.82612,      0.8286,     0.82813,     0.82767,     0.82646,     0.82629,     0.82619,     0.82609,     0.82599,     0.82589,     0.82579,     0.82569,     0.82559,     0.82549,     0.82539,     0.82529,     0.82519,\n",
              "            0.82415,     0.82277,     0.82495,     0.82733,     0.83215,     0.83407,     0.83338,     0.83301,     0.83267,     0.83233,       0.832,      0.8317,      0.8314,      0.8311,     0.83113,     0.83205,     0.83297,     0.83389,     0.83481,     0.83573,     0.83665,     0.83862,     0.84136,\n",
              "            0.84324,     0.84309,     0.84293,     0.84278,     0.84263,     0.84248,     0.84232,     0.84217,     0.84272,     0.84383,     0.84493,     0.84604,     0.84714,     0.84825,     0.84777,     0.84708,      0.8466,     0.84629,     0.84775,     0.84921,     0.85068,     0.85214,      0.8538,\n",
              "            0.85558,     0.85736,     0.85913,     0.86272,     0.86684,     0.87299,     0.87562,     0.87824,     0.87991,     0.87965,     0.87939,     0.87912,     0.88593,     0.88555,     0.88519,     0.88492,     0.88466,     0.88439,     0.88803,     0.89298,     0.89671,     0.89898,     0.89845,\n",
              "            0.89736,     0.89724,     0.89712,       0.897,     0.89688,     0.89677,     0.89665,     0.89646,     0.89605,     0.89565,     0.89544,     0.89523,     0.89502,     0.89481,     0.89448,     0.89408,     0.89368,     0.89328,     0.89288,      0.8927,     0.89254,     0.89237,      0.8922,\n",
              "            0.89204,     0.89189,     0.89182,     0.89176,      0.8917,     0.89164,     0.89158,     0.89152,     0.89146,      0.8914,     0.89134,     0.89128,     0.89122,     0.89116,      0.8911,     0.89104,     0.89098,     0.89092,     0.89063,     0.89028,     0.88993,     0.89406,     0.89804,\n",
              "            0.89712,     0.89692,     0.89673,     0.89653,     0.89634,     0.89459,     0.89366,     0.89459,     0.89907,     0.90173,     0.90107,     0.89894,     0.89679,     0.89633,     0.89588,     0.89504,     0.89455,     0.89427,       0.894,     0.89372,     0.89304,     0.89233,     0.89194,\n",
              "            0.89155,     0.89117,     0.89082,     0.89046,     0.89011,     0.89244,     0.89478,     0.89711,     0.89944,     0.90578,     0.90997,     0.90965,     0.90933,     0.90904,     0.90885,     0.90866,     0.90847,     0.90828,     0.90808,     0.90765,     0.90715,     0.90659,     0.90896,\n",
              "            0.91132,     0.91369,     0.91606,     0.92104,     0.92693,     0.92754,     0.92733,     0.92713,     0.92693,     0.92677,     0.92665,     0.92653,     0.92641,     0.92629,     0.92617,     0.92605,     0.92593,     0.92402,     0.92385,     0.92368,     0.92351,     0.92334,     0.92316,\n",
              "            0.92298,      0.9228,     0.92261,     0.92242,     0.92223,     0.92274,     0.92589,     0.92904,     0.93219,     0.93417,     0.93406,     0.93396,     0.93385,     0.93374,     0.93363,     0.93353,     0.93342,     0.93242,     0.93186,     0.93135,     0.93092,     0.93042,     0.92943,\n",
              "            0.92855,     0.92812,      0.9277,     0.92623,     0.92576,      0.9243,     0.92216,     0.92899,     0.93534,     0.93413,     0.93215,     0.93185,     0.93154,     0.93123,      0.9309,     0.93055,     0.93019,     0.92983,     0.93418,     0.93867,     0.94317,     0.94604,     0.95263,\n",
              "            0.95921,     0.96276,     0.96227,     0.96205,     0.96182,      0.9616,     0.96123,     0.96081,     0.96056,     0.96032,     0.96007,     0.95954,     0.95892,     0.95833,      0.9567,     0.95564,     0.96764,     0.97719,     0.97686,     0.97662,     0.97642,     0.97622,     0.97605,\n",
              "            0.97589,     0.97573,     0.97553,     0.97523,     0.97497,     0.97481,     0.97465,      0.9745,     0.97367,     0.97355,     0.97343,     0.97331,     0.97319,     0.97308,     0.97266,     0.97186,     0.97137,     0.97046,     0.96985,     0.96877,     0.96771,     0.96742,     0.96713,\n",
              "            0.96684,     0.96652,     0.96615,     0.96579,     0.96538,     0.96482,     0.96427,     0.96395,     0.96363,     0.96331,     0.96299,     0.96114,      0.9607,     0.96026,     0.95824,      0.9517,     0.95027,     0.94759,     0.94673,     0.94604,     0.94536,     0.94467,     0.94348,\n",
              "            0.94204,     0.93977,     0.94101,     0.95079,     0.96057,     0.97036,     0.98014,     0.98993,     0.99971,           1,           1,           1,           1,           1,           1,           1,           1,           1,           1,           1,           1,           1,           1,\n",
              "                  1,           1,           1,           1,           1,           1,           1,           1,           1,           1,           1,           1,           1,           1,           1,           1,           1,           1,           1,           1,           1,           1,           1,\n",
              "                  1,           1,           1,           1,           1,           1,           1,           1,           1,           1,           1,           1,           1,           1,           1,           1,           1,           1,           1,           1,           1,           1,           1,\n",
              "                  1,           1,           1,           1,           1,           1,           1,           1,           1,           1,           1,           1,           1,           1,           1,           1,           1,           1,           1,           1,           1,           1,           1,\n",
              "                  1,           1,           1,           1,           1,           1,           1,           1,           1,           1,           1,           1,           1,           1,           1,           1,           1,           1,           1,           1,           1,           1,           1,\n",
              "                  1,           1,           1,           1,           1,           1,           1,           1,           1,           1,           1]]), 'Confidence', 'Precision'], [array([          0,    0.001001,    0.002002,    0.003003,    0.004004,    0.005005,    0.006006,    0.007007,    0.008008,    0.009009,     0.01001,    0.011011,    0.012012,    0.013013,    0.014014,    0.015015,    0.016016,    0.017017,    0.018018,    0.019019,     0.02002,    0.021021,    0.022022,    0.023023,\n",
              "          0.024024,    0.025025,    0.026026,    0.027027,    0.028028,    0.029029,     0.03003,    0.031031,    0.032032,    0.033033,    0.034034,    0.035035,    0.036036,    0.037037,    0.038038,    0.039039,     0.04004,    0.041041,    0.042042,    0.043043,    0.044044,    0.045045,    0.046046,    0.047047,\n",
              "          0.048048,    0.049049,     0.05005,    0.051051,    0.052052,    0.053053,    0.054054,    0.055055,    0.056056,    0.057057,    0.058058,    0.059059,     0.06006,    0.061061,    0.062062,    0.063063,    0.064064,    0.065065,    0.066066,    0.067067,    0.068068,    0.069069,     0.07007,    0.071071,\n",
              "          0.072072,    0.073073,    0.074074,    0.075075,    0.076076,    0.077077,    0.078078,    0.079079,     0.08008,    0.081081,    0.082082,    0.083083,    0.084084,    0.085085,    0.086086,    0.087087,    0.088088,    0.089089,     0.09009,    0.091091,    0.092092,    0.093093,    0.094094,    0.095095,\n",
              "          0.096096,    0.097097,    0.098098,    0.099099,      0.1001,      0.1011,      0.1021,      0.1031,      0.1041,     0.10511,     0.10611,     0.10711,     0.10811,     0.10911,     0.11011,     0.11111,     0.11211,     0.11311,     0.11411,     0.11512,     0.11612,     0.11712,     0.11812,     0.11912,\n",
              "           0.12012,     0.12112,     0.12212,     0.12312,     0.12412,     0.12513,     0.12613,     0.12713,     0.12813,     0.12913,     0.13013,     0.13113,     0.13213,     0.13313,     0.13413,     0.13514,     0.13614,     0.13714,     0.13814,     0.13914,     0.14014,     0.14114,     0.14214,     0.14314,\n",
              "           0.14414,     0.14515,     0.14615,     0.14715,     0.14815,     0.14915,     0.15015,     0.15115,     0.15215,     0.15315,     0.15415,     0.15516,     0.15616,     0.15716,     0.15816,     0.15916,     0.16016,     0.16116,     0.16216,     0.16316,     0.16416,     0.16517,     0.16617,     0.16717,\n",
              "           0.16817,     0.16917,     0.17017,     0.17117,     0.17217,     0.17317,     0.17417,     0.17518,     0.17618,     0.17718,     0.17818,     0.17918,     0.18018,     0.18118,     0.18218,     0.18318,     0.18418,     0.18519,     0.18619,     0.18719,     0.18819,     0.18919,     0.19019,     0.19119,\n",
              "           0.19219,     0.19319,     0.19419,      0.1952,      0.1962,      0.1972,      0.1982,      0.1992,      0.2002,      0.2012,      0.2022,      0.2032,      0.2042,     0.20521,     0.20621,     0.20721,     0.20821,     0.20921,     0.21021,     0.21121,     0.21221,     0.21321,     0.21421,     0.21522,\n",
              "           0.21622,     0.21722,     0.21822,     0.21922,     0.22022,     0.22122,     0.22222,     0.22322,     0.22422,     0.22523,     0.22623,     0.22723,     0.22823,     0.22923,     0.23023,     0.23123,     0.23223,     0.23323,     0.23423,     0.23524,     0.23624,     0.23724,     0.23824,     0.23924,\n",
              "           0.24024,     0.24124,     0.24224,     0.24324,     0.24424,     0.24525,     0.24625,     0.24725,     0.24825,     0.24925,     0.25025,     0.25125,     0.25225,     0.25325,     0.25425,     0.25526,     0.25626,     0.25726,     0.25826,     0.25926,     0.26026,     0.26126,     0.26226,     0.26326,\n",
              "           0.26426,     0.26527,     0.26627,     0.26727,     0.26827,     0.26927,     0.27027,     0.27127,     0.27227,     0.27327,     0.27427,     0.27528,     0.27628,     0.27728,     0.27828,     0.27928,     0.28028,     0.28128,     0.28228,     0.28328,     0.28428,     0.28529,     0.28629,     0.28729,\n",
              "           0.28829,     0.28929,     0.29029,     0.29129,     0.29229,     0.29329,     0.29429,      0.2953,      0.2963,      0.2973,      0.2983,      0.2993,      0.3003,      0.3013,      0.3023,      0.3033,      0.3043,     0.30531,     0.30631,     0.30731,     0.30831,     0.30931,     0.31031,     0.31131,\n",
              "           0.31231,     0.31331,     0.31431,     0.31532,     0.31632,     0.31732,     0.31832,     0.31932,     0.32032,     0.32132,     0.32232,     0.32332,     0.32432,     0.32533,     0.32633,     0.32733,     0.32833,     0.32933,     0.33033,     0.33133,     0.33233,     0.33333,     0.33433,     0.33534,\n",
              "           0.33634,     0.33734,     0.33834,     0.33934,     0.34034,     0.34134,     0.34234,     0.34334,     0.34434,     0.34535,     0.34635,     0.34735,     0.34835,     0.34935,     0.35035,     0.35135,     0.35235,     0.35335,     0.35435,     0.35536,     0.35636,     0.35736,     0.35836,     0.35936,\n",
              "           0.36036,     0.36136,     0.36236,     0.36336,     0.36436,     0.36537,     0.36637,     0.36737,     0.36837,     0.36937,     0.37037,     0.37137,     0.37237,     0.37337,     0.37437,     0.37538,     0.37638,     0.37738,     0.37838,     0.37938,     0.38038,     0.38138,     0.38238,     0.38338,\n",
              "           0.38438,     0.38539,     0.38639,     0.38739,     0.38839,     0.38939,     0.39039,     0.39139,     0.39239,     0.39339,     0.39439,      0.3954,      0.3964,      0.3974,      0.3984,      0.3994,      0.4004,      0.4014,      0.4024,      0.4034,      0.4044,     0.40541,     0.40641,     0.40741,\n",
              "           0.40841,     0.40941,     0.41041,     0.41141,     0.41241,     0.41341,     0.41441,     0.41542,     0.41642,     0.41742,     0.41842,     0.41942,     0.42042,     0.42142,     0.42242,     0.42342,     0.42442,     0.42543,     0.42643,     0.42743,     0.42843,     0.42943,     0.43043,     0.43143,\n",
              "           0.43243,     0.43343,     0.43443,     0.43544,     0.43644,     0.43744,     0.43844,     0.43944,     0.44044,     0.44144,     0.44244,     0.44344,     0.44444,     0.44545,     0.44645,     0.44745,     0.44845,     0.44945,     0.45045,     0.45145,     0.45245,     0.45345,     0.45445,     0.45546,\n",
              "           0.45646,     0.45746,     0.45846,     0.45946,     0.46046,     0.46146,     0.46246,     0.46346,     0.46446,     0.46547,     0.46647,     0.46747,     0.46847,     0.46947,     0.47047,     0.47147,     0.47247,     0.47347,     0.47447,     0.47548,     0.47648,     0.47748,     0.47848,     0.47948,\n",
              "           0.48048,     0.48148,     0.48248,     0.48348,     0.48448,     0.48549,     0.48649,     0.48749,     0.48849,     0.48949,     0.49049,     0.49149,     0.49249,     0.49349,     0.49449,      0.4955,      0.4965,      0.4975,      0.4985,      0.4995,      0.5005,      0.5015,      0.5025,      0.5035,\n",
              "            0.5045,     0.50551,     0.50651,     0.50751,     0.50851,     0.50951,     0.51051,     0.51151,     0.51251,     0.51351,     0.51451,     0.51552,     0.51652,     0.51752,     0.51852,     0.51952,     0.52052,     0.52152,     0.52252,     0.52352,     0.52452,     0.52553,     0.52653,     0.52753,\n",
              "           0.52853,     0.52953,     0.53053,     0.53153,     0.53253,     0.53353,     0.53453,     0.53554,     0.53654,     0.53754,     0.53854,     0.53954,     0.54054,     0.54154,     0.54254,     0.54354,     0.54454,     0.54555,     0.54655,     0.54755,     0.54855,     0.54955,     0.55055,     0.55155,\n",
              "           0.55255,     0.55355,     0.55455,     0.55556,     0.55656,     0.55756,     0.55856,     0.55956,     0.56056,     0.56156,     0.56256,     0.56356,     0.56456,     0.56557,     0.56657,     0.56757,     0.56857,     0.56957,     0.57057,     0.57157,     0.57257,     0.57357,     0.57457,     0.57558,\n",
              "           0.57658,     0.57758,     0.57858,     0.57958,     0.58058,     0.58158,     0.58258,     0.58358,     0.58458,     0.58559,     0.58659,     0.58759,     0.58859,     0.58959,     0.59059,     0.59159,     0.59259,     0.59359,     0.59459,      0.5956,      0.5966,      0.5976,      0.5986,      0.5996,\n",
              "            0.6006,      0.6016,      0.6026,      0.6036,      0.6046,     0.60561,     0.60661,     0.60761,     0.60861,     0.60961,     0.61061,     0.61161,     0.61261,     0.61361,     0.61461,     0.61562,     0.61662,     0.61762,     0.61862,     0.61962,     0.62062,     0.62162,     0.62262,     0.62362,\n",
              "           0.62462,     0.62563,     0.62663,     0.62763,     0.62863,     0.62963,     0.63063,     0.63163,     0.63263,     0.63363,     0.63463,     0.63564,     0.63664,     0.63764,     0.63864,     0.63964,     0.64064,     0.64164,     0.64264,     0.64364,     0.64464,     0.64565,     0.64665,     0.64765,\n",
              "           0.64865,     0.64965,     0.65065,     0.65165,     0.65265,     0.65365,     0.65465,     0.65566,     0.65666,     0.65766,     0.65866,     0.65966,     0.66066,     0.66166,     0.66266,     0.66366,     0.66466,     0.66567,     0.66667,     0.66767,     0.66867,     0.66967,     0.67067,     0.67167,\n",
              "           0.67267,     0.67367,     0.67467,     0.67568,     0.67668,     0.67768,     0.67868,     0.67968,     0.68068,     0.68168,     0.68268,     0.68368,     0.68468,     0.68569,     0.68669,     0.68769,     0.68869,     0.68969,     0.69069,     0.69169,     0.69269,     0.69369,     0.69469,      0.6957,\n",
              "            0.6967,      0.6977,      0.6987,      0.6997,      0.7007,      0.7017,      0.7027,      0.7037,      0.7047,     0.70571,     0.70671,     0.70771,     0.70871,     0.70971,     0.71071,     0.71171,     0.71271,     0.71371,     0.71471,     0.71572,     0.71672,     0.71772,     0.71872,     0.71972,\n",
              "           0.72072,     0.72172,     0.72272,     0.72372,     0.72472,     0.72573,     0.72673,     0.72773,     0.72873,     0.72973,     0.73073,     0.73173,     0.73273,     0.73373,     0.73473,     0.73574,     0.73674,     0.73774,     0.73874,     0.73974,     0.74074,     0.74174,     0.74274,     0.74374,\n",
              "           0.74474,     0.74575,     0.74675,     0.74775,     0.74875,     0.74975,     0.75075,     0.75175,     0.75275,     0.75375,     0.75475,     0.75576,     0.75676,     0.75776,     0.75876,     0.75976,     0.76076,     0.76176,     0.76276,     0.76376,     0.76476,     0.76577,     0.76677,     0.76777,\n",
              "           0.76877,     0.76977,     0.77077,     0.77177,     0.77277,     0.77377,     0.77477,     0.77578,     0.77678,     0.77778,     0.77878,     0.77978,     0.78078,     0.78178,     0.78278,     0.78378,     0.78478,     0.78579,     0.78679,     0.78779,     0.78879,     0.78979,     0.79079,     0.79179,\n",
              "           0.79279,     0.79379,     0.79479,      0.7958,      0.7968,      0.7978,      0.7988,      0.7998,      0.8008,      0.8018,      0.8028,      0.8038,      0.8048,     0.80581,     0.80681,     0.80781,     0.80881,     0.80981,     0.81081,     0.81181,     0.81281,     0.81381,     0.81481,     0.81582,\n",
              "           0.81682,     0.81782,     0.81882,     0.81982,     0.82082,     0.82182,     0.82282,     0.82382,     0.82482,     0.82583,     0.82683,     0.82783,     0.82883,     0.82983,     0.83083,     0.83183,     0.83283,     0.83383,     0.83483,     0.83584,     0.83684,     0.83784,     0.83884,     0.83984,\n",
              "           0.84084,     0.84184,     0.84284,     0.84384,     0.84484,     0.84585,     0.84685,     0.84785,     0.84885,     0.84985,     0.85085,     0.85185,     0.85285,     0.85385,     0.85485,     0.85586,     0.85686,     0.85786,     0.85886,     0.85986,     0.86086,     0.86186,     0.86286,     0.86386,\n",
              "           0.86486,     0.86587,     0.86687,     0.86787,     0.86887,     0.86987,     0.87087,     0.87187,     0.87287,     0.87387,     0.87487,     0.87588,     0.87688,     0.87788,     0.87888,     0.87988,     0.88088,     0.88188,     0.88288,     0.88388,     0.88488,     0.88589,     0.88689,     0.88789,\n",
              "           0.88889,     0.88989,     0.89089,     0.89189,     0.89289,     0.89389,     0.89489,      0.8959,      0.8969,      0.8979,      0.8989,      0.8999,      0.9009,      0.9019,      0.9029,      0.9039,      0.9049,     0.90591,     0.90691,     0.90791,     0.90891,     0.90991,     0.91091,     0.91191,\n",
              "           0.91291,     0.91391,     0.91491,     0.91592,     0.91692,     0.91792,     0.91892,     0.91992,     0.92092,     0.92192,     0.92292,     0.92392,     0.92492,     0.92593,     0.92693,     0.92793,     0.92893,     0.92993,     0.93093,     0.93193,     0.93293,     0.93393,     0.93493,     0.93594,\n",
              "           0.93694,     0.93794,     0.93894,     0.93994,     0.94094,     0.94194,     0.94294,     0.94394,     0.94494,     0.94595,     0.94695,     0.94795,     0.94895,     0.94995,     0.95095,     0.95195,     0.95295,     0.95395,     0.95495,     0.95596,     0.95696,     0.95796,     0.95896,     0.95996,\n",
              "           0.96096,     0.96196,     0.96296,     0.96396,     0.96496,     0.96597,     0.96697,     0.96797,     0.96897,     0.96997,     0.97097,     0.97197,     0.97297,     0.97397,     0.97497,     0.97598,     0.97698,     0.97798,     0.97898,     0.97998,     0.98098,     0.98198,     0.98298,     0.98398,\n",
              "           0.98498,     0.98599,     0.98699,     0.98799,     0.98899,     0.98999,     0.99099,     0.99199,     0.99299,     0.99399,     0.99499,       0.996,       0.997,       0.998,       0.999,           1]), array([[    0.78846,     0.78846,     0.75824,     0.74451,     0.72802,     0.70879,      0.6978,     0.67582,     0.66209,      0.6511,     0.64011,     0.63736,     0.63187,     0.62912,     0.62363,     0.62363,     0.62363,     0.62088,     0.62088,     0.61813,     0.61538,     0.60989,      0.6044,\n",
              "            0.60165,     0.59615,     0.59341,     0.59341,     0.59341,     0.58923,     0.58791,     0.58791,     0.58516,     0.58242,     0.58242,     0.58242,     0.58242,     0.58242,     0.58101,     0.57967,     0.57967,     0.57692,     0.57143,     0.57143,     0.57143,     0.57143,     0.57143,\n",
              "            0.57143,     0.57143,     0.57143,     0.56868,     0.56593,     0.56319,     0.56319,     0.56319,     0.56319,     0.56319,     0.56044,     0.56044,     0.56044,     0.56044,     0.56044,     0.56044,     0.56044,     0.56044,     0.56044,     0.55825,     0.55769,     0.55553,      0.5522,\n",
              "             0.5522,      0.5522,      0.5522,      0.5522,      0.5522,      0.5522,     0.55102,     0.54945,     0.54945,     0.54945,     0.54945,     0.54945,     0.54945,     0.54945,     0.54945,     0.54945,     0.54899,      0.5467,     0.54396,     0.54396,     0.54396,     0.54396,     0.54396,\n",
              "            0.54396,     0.54396,     0.54121,     0.54121,     0.54121,     0.53846,     0.53846,     0.53571,     0.53571,     0.53571,     0.53571,     0.53571,     0.53571,     0.53571,     0.53571,     0.53571,     0.53571,     0.53571,     0.53571,     0.53571,     0.53571,     0.53571,     0.53297,\n",
              "            0.53297,     0.53086,     0.53022,     0.53022,     0.53022,     0.53022,     0.53022,     0.53022,     0.52878,     0.52747,      0.5261,     0.52473,     0.52473,     0.52473,     0.52473,     0.52473,     0.52473,     0.52198,     0.52198,     0.52198,     0.51923,     0.51923,     0.51923,\n",
              "            0.51923,     0.51923,     0.51923,     0.51923,     0.51923,     0.51923,     0.51923,     0.51648,     0.51374,     0.51374,     0.51374,     0.51374,     0.51374,     0.51374,     0.51374,     0.51374,     0.51374,     0.51374,     0.51374,     0.51335,     0.51238,     0.51141,     0.51099,\n",
              "            0.51099,     0.51099,     0.51099,     0.50963,     0.50824,     0.50824,     0.50783,      0.5068,     0.50578,     0.50549,     0.50549,     0.50549,     0.50549,     0.50549,     0.50549,     0.50549,     0.50549,     0.50295,     0.49754,     0.49725,     0.49725,     0.49725,     0.49654,\n",
              "            0.49516,     0.49451,     0.49451,     0.49385,     0.49304,     0.49224,     0.49176,     0.49176,     0.49176,     0.49176,     0.49176,     0.49176,     0.49176,     0.49176,     0.49176,     0.49176,     0.49176,     0.49176,     0.49176,     0.49176,     0.49176,     0.49145,     0.49052,\n",
              "            0.48958,     0.48901,     0.48901,     0.48901,     0.48843,      0.4873,     0.48626,     0.48626,     0.48626,     0.48626,     0.48626,     0.48609,     0.48352,     0.48352,     0.48352,     0.48352,     0.48352,     0.48352,     0.48318,     0.48077,     0.48077,     0.48077,     0.48077,\n",
              "            0.48077,     0.48077,     0.48077,     0.48077,     0.48077,     0.48077,     0.48077,     0.48077,     0.48077,     0.48077,     0.48077,     0.48077,     0.48077,     0.48077,     0.48077,     0.48077,     0.48077,     0.48077,     0.48077,     0.48077,     0.48077,     0.48077,     0.48077,\n",
              "            0.48077,     0.48077,     0.48077,     0.48077,     0.48077,     0.48077,     0.48077,     0.48077,     0.48039,     0.47993,     0.47947,     0.47901,     0.47855,      0.4781,     0.47802,     0.47802,     0.47802,     0.47802,     0.47802,     0.47802,     0.47802,      0.4773,     0.47631,\n",
              "            0.47533,     0.47486,     0.47376,     0.47267,     0.47025,     0.46978,     0.46978,     0.46682,     0.46618,     0.46554,     0.46491,     0.46429,     0.46382,      0.4629,     0.46198,     0.46154,     0.46154,     0.46117,     0.46012,     0.45907,     0.45879,     0.45879,     0.45879,\n",
              "            0.45879,     0.45879,     0.45879,     0.45879,     0.45879,     0.45858,     0.45604,     0.45604,     0.45604,     0.45362,     0.45239,     0.45144,     0.45043,     0.44833,     0.44746,     0.44701,     0.44655,      0.4461,     0.44564,     0.44519,     0.44505,     0.44505,     0.44505,\n",
              "            0.44505,     0.44505,     0.44505,     0.44485,     0.44392,     0.44299,     0.44231,     0.43956,     0.43956,     0.43956,     0.43956,     0.43956,     0.43679,     0.43615,     0.43552,     0.43489,     0.43426,     0.43407,     0.43407,     0.43407,     0.43407,     0.43407,     0.43407,\n",
              "            0.43407,     0.43407,     0.43407,     0.43132,     0.43132,     0.43132,     0.43132,     0.43125,     0.43068,      0.4301,     0.42952,     0.42894,     0.42749,     0.42517,     0.42371,     0.42308,     0.42308,     0.42308,     0.42308,     0.42308,     0.42308,     0.42308,     0.42308,\n",
              "            0.42308,     0.42308,     0.42308,     0.42119,     0.41943,     0.41821,     0.41758,     0.41477,     0.41443,      0.4141,     0.41377,     0.41343,      0.4131,     0.41277,     0.41243,      0.4121,     0.41109,     0.40934,     0.40747,     0.40659,     0.40659,     0.40659,     0.40659,\n",
              "            0.40659,     0.40659,     0.40659,     0.40659,     0.40659,     0.40659,     0.40659,     0.40659,     0.40659,     0.40659,     0.40659,     0.40659,     0.40659,     0.40537,     0.40376,     0.40303,      0.4023,     0.40158,     0.40083,     0.40005,     0.39926,     0.39848,     0.39835,\n",
              "            0.39835,     0.39835,     0.39835,     0.39835,     0.39835,     0.39835,     0.39835,     0.39835,     0.39835,     0.39835,     0.39835,     0.39835,     0.39794,     0.39744,     0.39695,     0.39645,     0.39596,      0.3956,      0.3956,     0.39512,     0.39433,     0.39355,     0.39286,\n",
              "            0.39217,      0.3914,     0.39063,     0.39011,     0.39011,     0.39011,     0.39007,      0.3899,     0.38972,     0.38955,     0.38938,     0.38921,     0.38904,     0.38886,     0.38869,     0.38852,     0.38835,     0.38817,       0.388,     0.38783,     0.38766,     0.38749,     0.38716,\n",
              "            0.38574,     0.38366,     0.38162,     0.38122,     0.38081,     0.38041,        0.38,     0.37959,     0.37919,     0.37912,     0.37912,     0.37912,     0.37912,     0.37912,     0.37912,     0.37912,     0.37912,     0.37912,     0.37912,     0.37912,     0.37912,     0.37911,     0.37869,\n",
              "            0.37826,     0.37784,     0.37742,     0.37699,     0.37657,     0.37594,     0.37513,     0.37432,     0.37346,     0.37223,     0.37101,     0.37088,     0.37088,     0.37088,     0.37088,     0.37088,     0.37088,     0.37088,     0.37088,     0.37088,      0.3707,     0.37013,     0.36955,\n",
              "            0.36897,      0.3684,     0.36708,     0.36538,     0.36538,     0.36361,     0.36236,     0.36178,      0.3612,     0.36062,     0.36003,     0.35867,     0.35711,     0.35643,     0.35575,     0.35508,      0.3544,      0.3542,     0.35359,     0.35299,     0.35239,     0.35178,     0.35057,\n",
              "            0.34919,     0.34815,     0.34719,     0.34624,       0.345,     0.34374,     0.34341,     0.34341,     0.34341,     0.34341,     0.34341,     0.34323,     0.34269,     0.34215,     0.34161,     0.34107,     0.34039,     0.33923,     0.33808,     0.33646,     0.33516,     0.33516,     0.33516,\n",
              "            0.33516,     0.33516,     0.33452,     0.33387,     0.33323,     0.33259,     0.33242,     0.33203,     0.33094,     0.32986,      0.3271,     0.32671,     0.32648,     0.32625,     0.32603,      0.3258,     0.32557,     0.32534,     0.32511,     0.32489,     0.32466,     0.32443,      0.3242,\n",
              "            0.32189,     0.31884,     0.31868,     0.31868,     0.31868,     0.31761,     0.31604,     0.31521,     0.31444,     0.31367,     0.31293,     0.31227,      0.3116,     0.31093,     0.31044,     0.31044,     0.31044,     0.31044,     0.31044,     0.31044,     0.31044,     0.31044,     0.31044,\n",
              "            0.31033,     0.30998,     0.30962,     0.30927,     0.30891,     0.30856,      0.3082,     0.30785,     0.30769,     0.30769,     0.30769,     0.30769,     0.30769,     0.30769,       0.306,     0.30437,     0.30323,      0.3022,      0.3022,      0.3022,      0.3022,      0.3022,      0.3022,\n",
              "             0.3022,      0.3022,      0.3022,      0.3022,      0.3022,      0.3022,      0.3022,      0.3022,     0.30195,     0.30121,     0.30046,     0.29971,     0.29872,      0.2976,     0.29655,     0.29577,     0.29499,     0.29422,     0.29396,     0.29396,     0.29396,     0.29337,     0.29166,\n",
              "            0.28824,     0.28786,     0.28749,     0.28712,     0.28675,     0.28638,     0.28601,     0.28544,     0.28418,     0.28295,     0.28232,      0.2817,     0.28107,     0.28044,     0.27947,     0.27829,     0.27711,     0.27595,     0.27479,     0.27428,     0.27381,     0.27334,     0.27287,\n",
              "             0.2724,     0.27196,     0.27179,     0.27162,     0.27145,     0.27129,     0.27112,     0.27095,     0.27078,     0.27061,     0.27044,     0.27027,     0.27011,     0.26994,     0.26977,      0.2696,     0.26943,     0.26926,     0.26845,      0.2675,     0.26654,     0.26648,     0.26617,\n",
              "            0.26351,     0.26296,      0.2624,     0.26185,      0.2613,     0.25648,     0.25397,     0.25275,     0.25275,     0.25209,     0.25023,     0.24438,      0.2387,     0.23754,     0.23638,     0.23427,     0.23307,     0.23238,      0.2317,     0.23102,     0.22938,     0.22768,     0.22677,\n",
              "            0.22585,     0.22498,     0.22416,     0.22334,     0.22253,     0.22253,     0.22253,     0.22253,     0.22253,     0.22253,     0.22215,     0.22129,     0.22042,     0.21965,     0.21914,     0.21864,     0.21814,     0.21764,     0.21713,     0.21601,     0.21472,     0.21154,     0.21154,\n",
              "            0.21154,     0.21154,     0.21154,     0.21154,     0.21154,     0.21099,     0.21036,     0.20973,      0.2091,      0.2086,     0.20824,     0.20787,     0.20751,     0.20714,     0.20678,     0.20641,     0.20605,     0.20047,     0.19999,      0.1995,     0.19902,     0.19853,     0.19805,\n",
              "            0.19755,     0.19703,     0.19651,     0.19599,     0.19547,     0.19505,     0.19505,     0.19505,     0.19505,     0.19493,      0.1946,     0.19426,     0.19392,     0.19358,     0.19325,     0.19291,     0.19257,     0.18952,     0.18785,     0.18635,     0.18513,     0.18369,     0.18093,\n",
              "            0.17851,     0.17739,     0.17626,     0.17248,     0.17129,     0.16773,     0.16274,     0.16209,     0.15898,     0.15584,     0.15098,     0.15026,     0.14953,      0.1488,     0.14805,     0.14724,     0.14643,     0.14563,      0.1456,      0.1456,      0.1456,     0.14286,     0.14286,\n",
              "            0.14286,     0.14204,     0.14014,     0.13928,     0.13845,     0.13761,     0.13626,      0.1347,     0.13382,     0.13297,     0.13213,     0.13033,     0.12826,     0.12638,     0.12141,     0.11839,     0.11813,     0.11768,     0.11599,     0.11475,     0.11377,     0.11279,     0.11198,\n",
              "            0.11122,     0.11045,     0.10952,     0.10819,       0.107,     0.10633,     0.10566,     0.10499,     0.10161,     0.10114,     0.10068,     0.10022,    0.099758,    0.099295,    0.097767,    0.094901,     0.09322,    0.090261,    0.088384,    0.085232,    0.082342,    0.081598,    0.080854,\n",
              "           0.080111,    0.079316,    0.078447,    0.077578,    0.076615,    0.075367,    0.074145,    0.073482,    0.072819,    0.072155,    0.071492,    0.067978,    0.067185,    0.066392,    0.063042,    0.054159,    0.052512,    0.049682,    0.048852,    0.048206,     0.04756,    0.046914,     0.04589,\n",
              "           0.044684,    0.042906,    0.041209,    0.041209,    0.041209,    0.041209,    0.041209,    0.041209,    0.041209,    0.040443,    0.039653,    0.038864,    0.038214,    0.037708,    0.037202,    0.036697,    0.036191,    0.035642,    0.034357,    0.033072,    0.032795,    0.032608,     0.03242,\n",
              "           0.032233,    0.032046,    0.031858,    0.031671,    0.031483,    0.031296,    0.031109,    0.030921,    0.030734,    0.030547,    0.030359,    0.029972,    0.029001,     0.02803,    0.027305,    0.026913,    0.026521,    0.026128,    0.025736,    0.025344,    0.024951,    0.021832,    0.021139,\n",
              "           0.020446,    0.019752,    0.019005,    0.018094,    0.017183,    0.015647,    0.013598,    0.013304,     0.01301,    0.012715,    0.012421,    0.012127,    0.011833,    0.011538,    0.011244,    0.010953,    0.010682,    0.010412,    0.010141,   0.0098708,   0.0096002,   0.0093296,   0.0090591,\n",
              "          0.0087885,    0.008518,   0.0082474,   0.0053641,     0.00522,   0.0050759,   0.0049318,   0.0047877,   0.0046436,   0.0044995,   0.0043554,   0.0042114,   0.0040673,   0.0039232,   0.0037791,    0.003635,   0.0034909,   0.0033468,   0.0032027,   0.0030587,   0.0029146,   0.0027705,           0,\n",
              "                  0,           0,           0,           0,           0,           0,           0,           0,           0,           0,           0,           0,           0,           0,           0,           0,           0,           0,           0,           0,           0,           0,           0,\n",
              "                  0,           0,           0,           0,           0,           0,           0,           0,           0,           0,           0]]), 'Confidence', 'Recall']]\n",
              "fitness: 0.3310360244964514\n",
              "keys: ['metrics/precision(B)', 'metrics/recall(B)', 'metrics/mAP50(B)', 'metrics/mAP50-95(B)']\n",
              "maps: array([    0.31346])\n",
              "names: {0: 'trash'}\n",
              "plot: True\n",
              "results_dict: {'metrics/precision(B)': 0.6777355365233111, 'metrics/recall(B)': 0.47376476482896207, 'metrics/mAP50(B)': 0.4892592057758274, 'metrics/mAP50-95(B)': 0.31345567102096517, 'fitness': 0.3310360244964514}\n",
              "save_dir: PosixPath('runs/detect/train32')\n",
              "speed: {'preprocess': 0.6570765581080522, 'inference': 11.27034268051228, 'loss': 0.0009410595767712467, 'postprocess': 6.003461817584971}\n",
              "task: 'detect'"
            ]
          },
          "metadata": {},
          "execution_count": 14
        }
      ]
    },
    {
      "cell_type": "code",
      "source": [
        "results = model(\"/content/TACO-dataset-15/valid/images/000056_jpg.rf.902b2accb4d2aed952736566f73bec80.jpg\")  # predict on an image\n",
        "results"
      ],
      "metadata": {
        "collapsed": true,
        "colab": {
          "base_uri": "https://localhost:8080/"
        },
        "id": "5M0X522pv2w8",
        "outputId": "39c53365-8ce6-4046-f4d3-1c36daff51e6"
      },
      "execution_count": null,
      "outputs": [
        {
          "output_type": "stream",
          "name": "stdout",
          "text": [
            "\n",
            "image 1/1 /content/TACO-dataset-15/valid/images/000056_jpg.rf.902b2accb4d2aed952736566f73bec80.jpg: 640x640 4 trashs, 19.6ms\n",
            "Speed: 3.1ms preprocess, 19.6ms inference, 1.4ms postprocess per image at shape (1, 3, 640, 640)\n"
          ]
        },
        {
          "output_type": "execute_result",
          "data": {
            "text/plain": [
              "[ultralytics.engine.results.Results object with attributes:\n",
              " \n",
              " boxes: ultralytics.engine.results.Boxes object\n",
              " keypoints: None\n",
              " masks: None\n",
              " names: {0: 'trash'}\n",
              " obb: None\n",
              " orig_img: array([[[166, 175, 185],\n",
              "         [168, 177, 187],\n",
              "         [151, 161, 171],\n",
              "         ...,\n",
              "         [ 55,  76,  74],\n",
              "         [ 58,  79,  77],\n",
              "         [ 59,  80,  78]],\n",
              " \n",
              "        [[168, 177, 187],\n",
              "         [181, 190, 200],\n",
              "         [182, 192, 202],\n",
              "         ...,\n",
              "         [ 53,  74,  72],\n",
              "         [ 57,  78,  76],\n",
              "         [ 60,  81,  79]],\n",
              " \n",
              "        [[163, 172, 181],\n",
              "         [200, 209, 218],\n",
              "         [137, 148, 156],\n",
              "         ...,\n",
              "         [ 61,  81,  82],\n",
              "         [ 59,  79,  80],\n",
              "         [ 61,  81,  82]],\n",
              " \n",
              "        ...,\n",
              " \n",
              "        [[210, 225, 234],\n",
              "         [140, 156, 163],\n",
              "         [163, 179, 186],\n",
              "         ...,\n",
              "         [140, 168, 169],\n",
              "         [141, 169, 170],\n",
              "         [149, 177, 178]],\n",
              " \n",
              "        [[163, 179, 191],\n",
              "         [141, 158, 167],\n",
              "         [168, 185, 194],\n",
              "         ...,\n",
              "         [124, 153, 157],\n",
              "         [129, 156, 160],\n",
              "         [149, 176, 180]],\n",
              " \n",
              "        [[160, 176, 188],\n",
              "         [162, 178, 190],\n",
              "         [167, 184, 193],\n",
              "         ...,\n",
              "         [116, 145, 149],\n",
              "         [121, 148, 152],\n",
              "         [149, 176, 180]]], dtype=uint8)\n",
              " orig_shape: (416, 416)\n",
              " path: '/content/TACO-dataset-15/valid/images/000056_jpg.rf.902b2accb4d2aed952736566f73bec80.jpg'\n",
              " probs: None\n",
              " save_dir: 'runs/detect/train33'\n",
              " speed: {'preprocess': 3.145456314086914, 'inference': 19.626617431640625, 'postprocess': 1.4300346374511719}]"
            ]
          },
          "metadata": {},
          "execution_count": 16
        }
      ]
    },
    {
      "cell_type": "code",
      "source": [
        "# Optional[?]\n",
        "\n",
        "from IPython.display import display, Image\n",
        "from IPython import display\n"
      ],
      "metadata": {
        "id": "6ijJcm6fHrRZ"
      },
      "execution_count": null,
      "outputs": []
    }
  ]
}